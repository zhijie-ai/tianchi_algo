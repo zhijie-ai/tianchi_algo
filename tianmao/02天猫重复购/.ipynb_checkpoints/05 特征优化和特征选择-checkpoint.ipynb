{
 "cells": [
  {
   "cell_type": "markdown",
   "metadata": {},
   "source": [
    "## 导入相关包"
   ]
  },
  {
   "cell_type": "code",
   "execution_count": 1,
   "metadata": {},
   "outputs": [],
   "source": [
    "import pandas as pd\n",
    "import numpy as np"
   ]
  },
  {
   "cell_type": "markdown",
   "metadata": {},
   "source": [
    "## 读取数据（训练数据前10000行，测试数据前100条）"
   ]
  },
  {
   "cell_type": "code",
   "execution_count": 2,
   "metadata": {},
   "outputs": [],
   "source": [
    "train_data = pd.read_csv('train_all.csv',nrows=10000)\n",
    "test_data = pd.read_csv('test_all.csv',nrows=100)"
   ]
  },
  {
   "cell_type": "markdown",
   "metadata": {},
   "source": [
    "## 读取全部数据"
   ]
  },
  {
   "cell_type": "code",
   "execution_count": 6,
   "metadata": {},
   "outputs": [],
   "source": [
    "# train_data = pd.read_csv('train_all.csv',nrows=None)\n",
    "# test_data = pd.read_csv('test_all.csv',nrows=None)"
   ]
  },
  {
   "cell_type": "markdown",
   "metadata": {},
   "source": [
    "## 获取训练和测试数据"
   ]
  },
  {
   "cell_type": "code",
   "execution_count": 7,
   "metadata": {},
   "outputs": [],
   "source": [
    "features_columns = [col for col in train_data.columns if col not in ['user_id','label']]\n",
    "train = train_data[features_columns].values\n",
    "test = test_data[features_columns].values\n",
    "target =train_data['label'].values"
   ]
  },
  {
   "cell_type": "markdown",
   "metadata": {},
   "source": [
    "## 缺失值补全"
   ]
  },
  {
   "cell_type": "markdown",
   "metadata": {},
   "source": [
    "处理缺失值有很多方法，最常用为以下几种：\n",
    "1. 删除。当数据量较大时，或者缺失数据占比较小时，可以使用这种方法。\n",
    "2. 填充。通用的方法是采用平均数、中位数来填充，可以适用插值或者模型预测的方法进行缺失补全。\n",
    "3. 不处理。树类模型对缺失值不明感。"
   ]
  },
  {
   "cell_type": "markdown",
   "metadata": {},
   "source": [
    "#### 采用中值进行填充"
   ]
  },
  {
   "cell_type": "code",
   "execution_count": 11,
   "metadata": {},
   "outputs": [
    {
     "ename": "TypeError",
     "evalue": "fit() missing 1 required positional argument: 'X'",
     "output_type": "error",
     "traceback": [
      "\u001b[1;31m---------------------------------------------------------------------------\u001b[0m",
      "\u001b[1;31mTypeError\u001b[0m                                 Traceback (most recent call last)",
      "\u001b[1;32m<ipython-input-11-65a0bef01bf0>\u001b[0m in \u001b[0;36m<module>\u001b[1;34m()\u001b[0m\n\u001b[0;32m      2\u001b[0m \u001b[1;33m\u001b[0m\u001b[0m\n\u001b[0;32m      3\u001b[0m \u001b[0mimputer\u001b[0m \u001b[1;33m=\u001b[0m \u001b[0mSimpleImputer\u001b[0m\u001b[1;33m(\u001b[0m\u001b[0mstrategy\u001b[0m\u001b[1;33m=\u001b[0m\u001b[1;34m\"median\"\u001b[0m\u001b[1;33m)\u001b[0m\u001b[1;33m\u001b[0m\u001b[0m\n\u001b[1;32m----> 4\u001b[1;33m \u001b[0mimputer\u001b[0m \u001b[1;33m=\u001b[0m \u001b[0mSimpleImputer\u001b[0m\u001b[1;33m.\u001b[0m\u001b[0mfit\u001b[0m\u001b[1;33m(\u001b[0m\u001b[0mtrain\u001b[0m\u001b[1;33m)\u001b[0m\u001b[1;33m\u001b[0m\u001b[0m\n\u001b[0m\u001b[0;32m      5\u001b[0m \u001b[0mtrain_imputer\u001b[0m \u001b[1;33m=\u001b[0m \u001b[0mimputer\u001b[0m\u001b[1;33m.\u001b[0m\u001b[0mtransform\u001b[0m\u001b[1;33m(\u001b[0m\u001b[0mtrain\u001b[0m\u001b[1;33m)\u001b[0m\u001b[1;33m\u001b[0m\u001b[0m\n\u001b[0;32m      6\u001b[0m \u001b[0mtest_imputer\u001b[0m \u001b[1;33m=\u001b[0m \u001b[0mimputer\u001b[0m\u001b[1;33m.\u001b[0m\u001b[0mtransform\u001b[0m\u001b[1;33m(\u001b[0m\u001b[0mtest\u001b[0m\u001b[1;33m)\u001b[0m\u001b[1;33m\u001b[0m\u001b[0m\n",
      "\u001b[1;31mTypeError\u001b[0m: fit() missing 1 required positional argument: 'X'"
     ]
    }
   ],
   "source": [
    "from sklearn.preprocessing import Imputer\n",
    "\n",
    "imputer = Imputer(strategy=\"median\")\n",
    "imputer = imputer.fit(train)\n",
    "train_imputer = imputer.transform(train)\n",
    "test_imputer = imputer.transform(test)"
   ]
  },
  {
   "cell_type": "markdown",
   "metadata": {},
   "source": [
    "## 特征选择概念"
   ]
  },
  {
   "cell_type": "markdown",
   "metadata": {},
   "source": [
    "在机器学习和统计学中，特征选择（英语：feature selection）也被称为变量选择、属性选择 或变量子集选择 。它是指：为了构建模型而选择相关特征（即属性、指标）子集的过程。使用特征选择技术有三个原因：\n",
    "\n",
    "    简化模型，使之更易于被研究人员或用户理解，\n",
    "    缩短训练时间，\n",
    "    改善通用性、降低过拟合（即降低方差）。\n",
    "\n",
    "要使用特征选择技术的关键假设是：训练数据包含许多冗余 或无关 的特征，因而移除这些特征并不会导致丢失信息。 冗余 或无关 特征是两个不同的概念。如果一个特征本身有用，但如果这个特征与另一个有用特征强相关，且那个特征也出现在数据中，那么这个特征可能就变得多余。\n",
    "特征选择技术与特征提取有所不同。特征提取是从原有特征的功能中创造新的特征，而特征选择则只返回原有特征中的子集。 特征选择技术的常常用于许多特征但样本（即数据点）相对较少的领域。特征选择应用的典型用例包括：解析书面文本和微阵列数据，这些场景下特征成千上万，但样本只有几十到几百个。"
   ]
  },
  {
   "cell_type": "code",
   "execution_count": 36,
   "metadata": {},
   "outputs": [],
   "source": [
    "from sklearn.model_selection import cross_val_score\n",
    "from sklearn.ensemble import RandomForestClassifier\n",
    "\n",
    "def feature_selection(train, train_sel, target):\n",
    "    clf = RandomForestClassifier(n_estimators=100, max_depth=2, random_state=0, n_jobs=-1)\n",
    "    \n",
    "    scores = cross_val_score(clf, train, target, cv=5)\n",
    "    scores_sel = cross_val_score(clf, train_sel, target, cv=5)\n",
    "    \n",
    "    print(\"No Select Accuracy: %0.2f (+/- %0.2f)\" % (scores.mean(), scores.std() * 2))     \n",
    "    print(\"Features Select Accuracy: %0.2f (+/- %0.2f)\" % (scores.mean(), scores.std() * 2))"
   ]
  },
  {
   "cell_type": "markdown",
   "metadata": {},
   "source": [
    "### 删除方差较小的要素（方法一）\n",
    "VarianceThreshold是一种简单的基线特征选择方法。它会删除方差不符合某个阈值的所有要素。默认情况下，它会删除所有零方差要素，即在所有样本中具有相同值的要素。"
   ]
  },
  {
   "cell_type": "code",
   "execution_count": 15,
   "metadata": {},
   "outputs": [
    {
     "name": "stdout",
     "output_type": "stream",
     "text": [
      "训练数据未特征筛选维度 (10000, 229)\n",
      "训练数据未特征筛选维度后 (10000, 124)\n"
     ]
    }
   ],
   "source": [
    "from sklearn.feature_selection import VarianceThreshold\n",
    "\n",
    "sel = VarianceThreshold(threshold=(.8 * (1 - .8)))\n",
    "sel = sel.fit(train)\n",
    "train_sel = sel.transform(train)\n",
    "test_sel = sel.transform(test)\n",
    "print('训练数据未特征筛选维度', train.shape)\n",
    "print('训练数据特征筛选维度后', train_sel.shape)"
   ]
  },
  {
   "cell_type": "markdown",
   "metadata": {},
   "source": [
    "### 特征选择前后区别"
   ]
  },
  {
   "cell_type": "code",
   "execution_count": 17,
   "metadata": {},
   "outputs": [
    {
     "name": "stdout",
     "output_type": "stream",
     "text": [
      "No Select Accuracy: 0.94 (+/- 0.00)\n",
      "Features Select Accuracy: 0.94 (+/- 0.00)\n"
     ]
    }
   ],
   "source": [
    "feature_selection(train, train_sel, target)"
   ]
  },
  {
   "cell_type": "markdown",
   "metadata": {},
   "source": [
    "### 单变量特征选择（方法二）\n",
    "通过基于单变量统计检验选择最佳特征。"
   ]
  },
  {
   "cell_type": "code",
   "execution_count": 20,
   "metadata": {},
   "outputs": [
    {
     "name": "stdout",
     "output_type": "stream",
     "text": [
      "训练数据未特征筛选维度 (10000, 229)\n",
      "训练数据未特征筛选维度后 (10000, 2)\n"
     ]
    }
   ],
   "source": [
    "from sklearn.feature_selection import SelectKBest\n",
    "# from sklearn.feature_selection import chi2\n",
    "from sklearn.feature_selection import mutual_info_classif\n",
    "\n",
    "sel = SelectKBest(mutual_info_classif, k=2)\n",
    "sel = sel.fit(train, target)\n",
    "train_sel = sel.transform(train)\n",
    "test_sel = sel.transform(test)\n",
    "print('训练数据未特征筛选维度', train.shape)\n",
    "print('训练数据特征筛选维度后', train_sel.shape)"
   ]
  },
  {
   "cell_type": "markdown",
   "metadata": {},
   "source": [
    "### 特征选择前后区别"
   ]
  },
  {
   "cell_type": "code",
   "execution_count": 21,
   "metadata": {},
   "outputs": [
    {
     "name": "stdout",
     "output_type": "stream",
     "text": [
      "No Select Accuracy: 0.94 (+/- 0.00)\n",
      "Features Select Accuracy: 0.94 (+/- 0.00)\n"
     ]
    }
   ],
   "source": [
    "feature_selection(train, train_sel, target)"
   ]
  },
  {
   "cell_type": "markdown",
   "metadata": {},
   "source": [
    "### 递归功能消除（方法三）\n",
    "选定模型拟合，进行递归拟合，每次把评分低得特征去除，重复上诉循环。"
   ]
  },
  {
   "cell_type": "code",
   "execution_count": 29,
   "metadata": {},
   "outputs": [],
   "source": [
    "from sklearn.feature_selection import RFECV\n",
    "from sklearn.ensemble import RandomForestClassifier\n",
    "\n",
    "clf = RandomForestClassifier(n_estimators=10, max_depth=2, random_state=0, n_jobs=-1)\n",
    "selector = RFECV(clf, step=1, cv=2)\n",
    "selector = selector.fit(train, target)\n",
    "print(selector.support_)\n",
    "print(selector.ranking_)"
   ]
  },
  {
   "cell_type": "markdown",
   "metadata": {},
   "source": [
    "### 使用模型选择特征（方法四）"
   ]
  },
  {
   "cell_type": "markdown",
   "metadata": {},
   "source": [
    "#### 使用LR拟合的参数进行变量选择（L2范数进行特征选择）\n",
    "LR模型采用拟合参数形式进行变量选择，筛选对回归目标影响大的"
   ]
  },
  {
   "cell_type": "code",
   "execution_count": 43,
   "metadata": {},
   "outputs": [
    {
     "name": "stdout",
     "output_type": "stream",
     "text": [
      "训练数据未特征筛选维度 (10000, 229)\n",
      "训练数据未特征筛选维度后 (10000, 18)\n"
     ]
    }
   ],
   "source": [
    "from sklearn.feature_selection import SelectFromModel\n",
    "from sklearn.linear_model import LogisticRegression\n",
    "from sklearn.preprocessing import Normalizer\n",
    "\n",
    "normalizer = Normalizer()\n",
    "normalizer = normalizer.fit(train)  \n",
    "\n",
    "train_norm = normalizer.transform(train)                            \n",
    "test_norm = normalizer.transform(test)\n",
    "\n",
    "LR = LogisticRegression(penalty='l2',C=5)\n",
    "LR = LR.fit(train_norm, target)\n",
    "model = SelectFromModel(LR, prefit=True)\n",
    "train_sel = model.transform(train)\n",
    "test_sel = model.transform(test)\n",
    "print('训练数据未特征筛选维度', train.shape)\n",
    "print('训练数据特征筛选维度后', train_sel.shape)"
   ]
  },
  {
   "cell_type": "markdown",
   "metadata": {},
   "source": [
    "##### L2范数选择参数"
   ]
  },
  {
   "cell_type": "code",
   "execution_count": 44,
   "metadata": {},
   "outputs": [
    {
     "data": {
      "text/plain": [
       "array([ 0.44507853, -0.00384362, -0.02197298,  0.67490409, -1.53683566,\n",
       "       -0.24859929, -1.4799072 ,  1.52664265,  0.3054863 , -0.01480279])"
      ]
     },
     "execution_count": 44,
     "metadata": {},
     "output_type": "execute_result"
    }
   ],
   "source": [
    "LR.coef_[0][:10]"
   ]
  },
  {
   "cell_type": "markdown",
   "metadata": {},
   "source": [
    "### 特征选择前后区别"
   ]
  },
  {
   "cell_type": "code",
   "execution_count": 35,
   "metadata": {},
   "outputs": [
    {
     "name": "stdout",
     "output_type": "stream",
     "text": [
      "No Select Accuracy: 0.94 (+/- 0.00)\n",
      "Features Select Accuracy: 0.94 (+/- 0.00)\n"
     ]
    }
   ],
   "source": [
    "feature_selection(train, train_sel, target)"
   ]
  },
  {
   "cell_type": "markdown",
   "metadata": {},
   "source": [
    "#### 使用LR拟合的参数进行变量选择（L1范数进行特征选择）\n",
    "LR模型采用拟合参数形式进行变量选择，筛选对回归目标影响大的"
   ]
  },
  {
   "cell_type": "code",
   "execution_count": 45,
   "metadata": {},
   "outputs": [
    {
     "name": "stdout",
     "output_type": "stream",
     "text": [
      "训练数据未特征筛选维度 (10000, 229)\n",
      "训练数据未特征筛选维度后 (10000, 7)\n"
     ]
    }
   ],
   "source": [
    "from sklearn.feature_selection import SelectFromModel\n",
    "from sklearn.linear_model import LogisticRegression\n",
    "from sklearn.preprocessing import Normalizer\n",
    "\n",
    "normalizer = Normalizer()\n",
    "normalizer = normalizer.fit(train)  \n",
    "\n",
    "train_norm = normalizer.transform(train)                            \n",
    "test_norm = normalizer.transform(test)\n",
    "\n",
    "LR = LogisticRegression(penalty='l1',C=5)\n",
    "LR = LR.fit(train_norm, target)\n",
    "model = SelectFromModel(LR, prefit=True)\n",
    "train_sel = model.transform(train)\n",
    "test_sel = model.transform(test)\n",
    "print('训练数据未特征筛选维度', train.shape)\n",
    "print('训练数据特征筛选维度后', train_sel.shape)"
   ]
  },
  {
   "cell_type": "markdown",
   "metadata": {},
   "source": [
    "##### L1范数选择参数\n",
    "对于α的良好选择，只要满足某些特定条件，Lasso就可以仅使用少量观察来完全恢复精确的非零变量集。"
   ]
  },
  {
   "cell_type": "code",
   "execution_count": 46,
   "metadata": {},
   "outputs": [
    {
     "data": {
      "text/plain": [
       "array([  0.48542544,   0.        ,   0.        ,   0.        ,\n",
       "       -12.22776025,   0.        ,   0.        ,  11.23346295,\n",
       "         0.        ,   0.        ])"
      ]
     },
     "execution_count": 46,
     "metadata": {},
     "output_type": "execute_result"
    }
   ],
   "source": [
    "LR.coef_[0][:10]"
   ]
  },
  {
   "cell_type": "markdown",
   "metadata": {},
   "source": [
    "### 特征选择前后区别"
   ]
  },
  {
   "cell_type": "code",
   "execution_count": 48,
   "metadata": {},
   "outputs": [
    {
     "name": "stdout",
     "output_type": "stream",
     "text": [
      "No Select Accuracy: 0.94 (+/- 0.00)\n",
      "Features Select Accuracy: 0.94 (+/- 0.00)\n"
     ]
    }
   ],
   "source": [
    "feature_selection(train, train_sel, target)"
   ]
  },
  {
   "cell_type": "markdown",
   "metadata": {},
   "source": [
    "### 基于树模型特征选择\n",
    "树模型基于分裂评价标准所计算的总的评分作为依据进行相关排序，然后进行特征筛选"
   ]
  },
  {
   "cell_type": "code",
   "execution_count": 49,
   "metadata": {},
   "outputs": [
    {
     "name": "stdout",
     "output_type": "stream",
     "text": [
      "训练数据未特征筛选维度 (10000, 229)\n",
      "训练数据未特征筛选维度后 (10000, 117)\n"
     ]
    }
   ],
   "source": [
    "from sklearn.ensemble import ExtraTreesClassifier\n",
    "from sklearn.feature_selection import SelectFromModel\n",
    "\n",
    "clf = ExtraTreesClassifier(n_estimators=50)\n",
    "clf = clf.fit(train, target)\n",
    "\n",
    "model = SelectFromModel(clf, prefit=True)\n",
    "train_sel = model.transform(train)\n",
    "test_sel = model.transform(test)\n",
    "print('训练数据未特征筛选维度', train.shape)\n",
    "print('训练数据特征筛选维度后', train_sel.shape)"
   ]
  },
  {
   "cell_type": "markdown",
   "metadata": {},
   "source": [
    "#### 树特征重要性"
   ]
  },
  {
   "cell_type": "code",
   "execution_count": 51,
   "metadata": {},
   "outputs": [
    {
     "data": {
      "text/plain": [
       "array([0.0528625 , 0.00493938, 0.00315013, 0.0047425 , 0.00388575,\n",
       "       0.00465382, 0.00405945, 0.00466955, 0.00522471, 0.00310526])"
      ]
     },
     "execution_count": 51,
     "metadata": {},
     "output_type": "execute_result"
    }
   ],
   "source": [
    "clf.feature_importances_[:10]"
   ]
  },
  {
   "cell_type": "markdown",
   "metadata": {},
   "source": [
    "### 特征选择前后区别"
   ]
  },
  {
   "cell_type": "code",
   "execution_count": 52,
   "metadata": {},
   "outputs": [
    {
     "name": "stdout",
     "output_type": "stream",
     "text": [
      "No Select Accuracy: 0.94 (+/- 0.00)\n",
      "Features Select Accuracy: 0.94 (+/- 0.00)\n"
     ]
    }
   ],
   "source": [
    "feature_selection(train, train_sel, target)"
   ]
  },
  {
   "cell_type": "markdown",
   "metadata": {},
   "source": [
    "### Lgb特征重要性"
   ]
  },
  {
   "cell_type": "code",
   "execution_count": 54,
   "metadata": {},
   "outputs": [
    {
     "name": "stderr",
     "output_type": "stream",
     "text": [
      "C:\\Users\\hongpengfei1\\AppData\\Local\\Continuum\\anaconda3\\lib\\site-packages\\lightgbm\\basic.py:644: UserWarning: silent keyword has been found in `params` and will be ignored. Please use silent argument of the Dataset constructor to pass this parameter.\n",
      "  'Please use {0} argument of the Dataset constructor to pass this parameter.'.format(key))\n"
     ]
    },
    {
     "name": "stdout",
     "output_type": "stream",
     "text": [
      "[1]\tvalid_0's multi_logloss: 0.670757\n",
      "Training until validation scores don't improve for 100 rounds.\n",
      "[2]\tvalid_0's multi_logloss: 0.649715\n",
      "[3]\tvalid_0's multi_logloss: 0.629858\n",
      "[4]\tvalid_0's multi_logloss: 0.611066\n",
      "[5]\tvalid_0's multi_logloss: 0.593341\n",
      "[6]\tvalid_0's multi_logloss: 0.576602\n",
      "[7]\tvalid_0's multi_logloss: 0.560768\n",
      "[8]\tvalid_0's multi_logloss: 0.545738\n",
      "[9]\tvalid_0's multi_logloss: 0.531488\n",
      "[10]\tvalid_0's multi_logloss: 0.517982\n",
      "[11]\tvalid_0's multi_logloss: 0.505074\n",
      "[12]\tvalid_0's multi_logloss: 0.4929\n",
      "[13]\tvalid_0's multi_logloss: 0.481308\n",
      "[14]\tvalid_0's multi_logloss: 0.470263\n",
      "[15]\tvalid_0's multi_logloss: 0.459757\n",
      "[16]\tvalid_0's multi_logloss: 0.449771\n",
      "[17]\tvalid_0's multi_logloss: 0.440241\n",
      "[18]\tvalid_0's multi_logloss: 0.431265\n",
      "[19]\tvalid_0's multi_logloss: 0.422609\n",
      "[20]\tvalid_0's multi_logloss: 0.414422\n",
      "[21]\tvalid_0's multi_logloss: 0.406518\n",
      "[22]\tvalid_0's multi_logloss: 0.39901\n",
      "[23]\tvalid_0's multi_logloss: 0.391861\n",
      "[24]\tvalid_0's multi_logloss: 0.38504\n",
      "[25]\tvalid_0's multi_logloss: 0.378535\n",
      "[26]\tvalid_0's multi_logloss: 0.372311\n",
      "[27]\tvalid_0's multi_logloss: 0.366322\n",
      "[28]\tvalid_0's multi_logloss: 0.360649\n",
      "[29]\tvalid_0's multi_logloss: 0.355248\n",
      "[30]\tvalid_0's multi_logloss: 0.350071\n",
      "[31]\tvalid_0's multi_logloss: 0.345082\n",
      "[32]\tvalid_0's multi_logloss: 0.340352\n",
      "[33]\tvalid_0's multi_logloss: 0.335801\n",
      "[34]\tvalid_0's multi_logloss: 0.331464\n",
      "[35]\tvalid_0's multi_logloss: 0.327323\n",
      "[36]\tvalid_0's multi_logloss: 0.323326\n",
      "[37]\tvalid_0's multi_logloss: 0.319532\n",
      "[38]\tvalid_0's multi_logloss: 0.315864\n",
      "[39]\tvalid_0's multi_logloss: 0.312385\n",
      "[40]\tvalid_0's multi_logloss: 0.309055\n",
      "[41]\tvalid_0's multi_logloss: 0.305885\n",
      "[42]\tvalid_0's multi_logloss: 0.302827\n",
      "[43]\tvalid_0's multi_logloss: 0.299864\n",
      "[44]\tvalid_0's multi_logloss: 0.297091\n",
      "[45]\tvalid_0's multi_logloss: 0.294419\n",
      "[46]\tvalid_0's multi_logloss: 0.291869\n",
      "[47]\tvalid_0's multi_logloss: 0.289479\n",
      "[48]\tvalid_0's multi_logloss: 0.287152\n",
      "[49]\tvalid_0's multi_logloss: 0.284875\n",
      "[50]\tvalid_0's multi_logloss: 0.282782\n",
      "[51]\tvalid_0's multi_logloss: 0.280716\n",
      "[52]\tvalid_0's multi_logloss: 0.278738\n",
      "[53]\tvalid_0's multi_logloss: 0.276886\n",
      "[54]\tvalid_0's multi_logloss: 0.275065\n",
      "[55]\tvalid_0's multi_logloss: 0.273327\n",
      "[56]\tvalid_0's multi_logloss: 0.271673\n",
      "[57]\tvalid_0's multi_logloss: 0.270133\n",
      "[58]\tvalid_0's multi_logloss: 0.268684\n",
      "[59]\tvalid_0's multi_logloss: 0.267271\n",
      "[60]\tvalid_0's multi_logloss: 0.26591\n",
      "[61]\tvalid_0's multi_logloss: 0.264583\n",
      "[62]\tvalid_0's multi_logloss: 0.263328\n",
      "[63]\tvalid_0's multi_logloss: 0.262139\n",
      "[64]\tvalid_0's multi_logloss: 0.261063\n",
      "[65]\tvalid_0's multi_logloss: 0.259954\n",
      "[66]\tvalid_0's multi_logloss: 0.25891\n",
      "[67]\tvalid_0's multi_logloss: 0.257903\n",
      "[68]\tvalid_0's multi_logloss: 0.256984\n",
      "[69]\tvalid_0's multi_logloss: 0.256063\n",
      "[70]\tvalid_0's multi_logloss: 0.255216\n",
      "[71]\tvalid_0's multi_logloss: 0.254329\n",
      "[72]\tvalid_0's multi_logloss: 0.253509\n",
      "[73]\tvalid_0's multi_logloss: 0.252735\n",
      "[74]\tvalid_0's multi_logloss: 0.251999\n",
      "[75]\tvalid_0's multi_logloss: 0.251319\n",
      "[76]\tvalid_0's multi_logloss: 0.25069\n",
      "[77]\tvalid_0's multi_logloss: 0.250113\n",
      "[78]\tvalid_0's multi_logloss: 0.249555\n",
      "[79]\tvalid_0's multi_logloss: 0.249079\n",
      "[80]\tvalid_0's multi_logloss: 0.248548\n",
      "[81]\tvalid_0's multi_logloss: 0.24813\n",
      "[82]\tvalid_0's multi_logloss: 0.247677\n",
      "[83]\tvalid_0's multi_logloss: 0.247265\n",
      "[84]\tvalid_0's multi_logloss: 0.24681\n",
      "[85]\tvalid_0's multi_logloss: 0.24645\n",
      "[86]\tvalid_0's multi_logloss: 0.246138\n",
      "[87]\tvalid_0's multi_logloss: 0.245873\n",
      "[88]\tvalid_0's multi_logloss: 0.24557\n",
      "[89]\tvalid_0's multi_logloss: 0.245292\n",
      "[90]\tvalid_0's multi_logloss: 0.245019\n",
      "[91]\tvalid_0's multi_logloss: 0.244769\n",
      "[92]\tvalid_0's multi_logloss: 0.244465\n",
      "[93]\tvalid_0's multi_logloss: 0.244299\n",
      "[94]\tvalid_0's multi_logloss: 0.244106\n",
      "[95]\tvalid_0's multi_logloss: 0.243876\n",
      "[96]\tvalid_0's multi_logloss: 0.243726\n",
      "[97]\tvalid_0's multi_logloss: 0.243481\n",
      "[98]\tvalid_0's multi_logloss: 0.24333\n",
      "[99]\tvalid_0's multi_logloss: 0.243208\n",
      "[100]\tvalid_0's multi_logloss: 0.243115\n",
      "[101]\tvalid_0's multi_logloss: 0.242961\n",
      "[102]\tvalid_0's multi_logloss: 0.242946\n",
      "[103]\tvalid_0's multi_logloss: 0.242824\n",
      "[104]\tvalid_0's multi_logloss: 0.242727\n",
      "[105]\tvalid_0's multi_logloss: 0.242657\n",
      "[106]\tvalid_0's multi_logloss: 0.242618\n",
      "[107]\tvalid_0's multi_logloss: 0.242573\n",
      "[108]\tvalid_0's multi_logloss: 0.242557\n",
      "[109]\tvalid_0's multi_logloss: 0.242498\n",
      "[110]\tvalid_0's multi_logloss: 0.242529\n",
      "[111]\tvalid_0's multi_logloss: 0.242539\n",
      "[112]\tvalid_0's multi_logloss: 0.242524\n",
      "[113]\tvalid_0's multi_logloss: 0.242458\n",
      "[114]\tvalid_0's multi_logloss: 0.242465\n",
      "[115]\tvalid_0's multi_logloss: 0.242501\n",
      "[116]\tvalid_0's multi_logloss: 0.242522\n",
      "[117]\tvalid_0's multi_logloss: 0.242557\n",
      "[118]\tvalid_0's multi_logloss: 0.242572\n",
      "[119]\tvalid_0's multi_logloss: 0.242581\n",
      "[120]\tvalid_0's multi_logloss: 0.242617\n",
      "[121]\tvalid_0's multi_logloss: 0.242729\n",
      "[122]\tvalid_0's multi_logloss: 0.242782\n",
      "[123]\tvalid_0's multi_logloss: 0.242862\n",
      "[124]\tvalid_0's multi_logloss: 0.242952\n",
      "[125]\tvalid_0's multi_logloss: 0.243053\n",
      "[126]\tvalid_0's multi_logloss: 0.243122\n",
      "[127]\tvalid_0's multi_logloss: 0.24325\n",
      "[128]\tvalid_0's multi_logloss: 0.243315\n",
      "[129]\tvalid_0's multi_logloss: 0.243371\n",
      "[130]\tvalid_0's multi_logloss: 0.243423\n",
      "[131]\tvalid_0's multi_logloss: 0.243518\n",
      "[132]\tvalid_0's multi_logloss: 0.243528\n",
      "[133]\tvalid_0's multi_logloss: 0.243657\n",
      "[134]\tvalid_0's multi_logloss: 0.243749\n",
      "[135]\tvalid_0's multi_logloss: 0.243832\n",
      "[136]\tvalid_0's multi_logloss: 0.243937\n",
      "[137]\tvalid_0's multi_logloss: 0.243977\n",
      "[138]\tvalid_0's multi_logloss: 0.243999\n",
      "[139]\tvalid_0's multi_logloss: 0.244067\n",
      "[140]\tvalid_0's multi_logloss: 0.244118\n",
      "[141]\tvalid_0's multi_logloss: 0.244284\n",
      "[142]\tvalid_0's multi_logloss: 0.244378\n",
      "[143]\tvalid_0's multi_logloss: 0.24444\n",
      "[144]\tvalid_0's multi_logloss: 0.244579\n",
      "[145]\tvalid_0's multi_logloss: 0.244729\n",
      "[146]\tvalid_0's multi_logloss: 0.244825\n",
      "[147]\tvalid_0's multi_logloss: 0.244919\n",
      "[148]\tvalid_0's multi_logloss: 0.245023\n",
      "[149]\tvalid_0's multi_logloss: 0.245149\n",
      "[150]\tvalid_0's multi_logloss: 0.245247\n",
      "[151]\tvalid_0's multi_logloss: 0.245314\n",
      "[152]\tvalid_0's multi_logloss: 0.245413\n",
      "[153]\tvalid_0's multi_logloss: 0.245554\n",
      "[154]\tvalid_0's multi_logloss: 0.245682\n",
      "[155]\tvalid_0's multi_logloss: 0.245786\n",
      "[156]\tvalid_0's multi_logloss: 0.245843\n",
      "[157]\tvalid_0's multi_logloss: 0.246016\n",
      "[158]\tvalid_0's multi_logloss: 0.246095\n",
      "[159]\tvalid_0's multi_logloss: 0.246145\n",
      "[160]\tvalid_0's multi_logloss: 0.246252\n",
      "[161]\tvalid_0's multi_logloss: 0.24634\n",
      "[162]\tvalid_0's multi_logloss: 0.246476\n",
      "[163]\tvalid_0's multi_logloss: 0.246512\n",
      "[164]\tvalid_0's multi_logloss: 0.246681\n",
      "[165]\tvalid_0's multi_logloss: 0.246771\n",
      "[166]\tvalid_0's multi_logloss: 0.246975\n",
      "[167]\tvalid_0's multi_logloss: 0.247135\n",
      "[168]\tvalid_0's multi_logloss: 0.247273\n",
      "[169]\tvalid_0's multi_logloss: 0.247418\n",
      "[170]\tvalid_0's multi_logloss: 0.247476\n",
      "[171]\tvalid_0's multi_logloss: 0.247625\n",
      "[172]\tvalid_0's multi_logloss: 0.247725\n",
      "[173]\tvalid_0's multi_logloss: 0.247814\n",
      "[174]\tvalid_0's multi_logloss: 0.248031\n",
      "[175]\tvalid_0's multi_logloss: 0.248185\n",
      "[176]\tvalid_0's multi_logloss: 0.248349\n",
      "[177]\tvalid_0's multi_logloss: 0.248459\n",
      "[178]\tvalid_0's multi_logloss: 0.248574\n",
      "[179]\tvalid_0's multi_logloss: 0.24871\n",
      "[180]\tvalid_0's multi_logloss: 0.24886\n",
      "[181]\tvalid_0's multi_logloss: 0.249002\n",
      "[182]\tvalid_0's multi_logloss: 0.249149\n",
      "[183]\tvalid_0's multi_logloss: 0.249259\n",
      "[184]\tvalid_0's multi_logloss: 0.249382\n",
      "[185]\tvalid_0's multi_logloss: 0.249518\n",
      "[186]\tvalid_0's multi_logloss: 0.249539\n",
      "[187]\tvalid_0's multi_logloss: 0.249659\n",
      "[188]\tvalid_0's multi_logloss: 0.24974\n",
      "[189]\tvalid_0's multi_logloss: 0.249871\n",
      "[190]\tvalid_0's multi_logloss: 0.250011\n",
      "[191]\tvalid_0's multi_logloss: 0.250162\n",
      "[192]\tvalid_0's multi_logloss: 0.250313\n",
      "[193]\tvalid_0's multi_logloss: 0.250477\n",
      "[194]\tvalid_0's multi_logloss: 0.250662\n",
      "[195]\tvalid_0's multi_logloss: 0.250823\n",
      "[196]\tvalid_0's multi_logloss: 0.250942\n",
      "[197]\tvalid_0's multi_logloss: 0.251147\n",
      "[198]\tvalid_0's multi_logloss: 0.251274\n",
      "[199]\tvalid_0's multi_logloss: 0.251433\n",
      "[200]\tvalid_0's multi_logloss: 0.251592\n",
      "[201]\tvalid_0's multi_logloss: 0.251697\n",
      "[202]\tvalid_0's multi_logloss: 0.251753\n",
      "[203]\tvalid_0's multi_logloss: 0.251962\n",
      "[204]\tvalid_0's multi_logloss: 0.252074\n",
      "[205]\tvalid_0's multi_logloss: 0.252248\n",
      "[206]\tvalid_0's multi_logloss: 0.252355\n",
      "[207]\tvalid_0's multi_logloss: 0.252557\n",
      "[208]\tvalid_0's multi_logloss: 0.252673\n",
      "[209]\tvalid_0's multi_logloss: 0.2528\n",
      "[210]\tvalid_0's multi_logloss: 0.252982\n",
      "[211]\tvalid_0's multi_logloss: 0.253174\n",
      "[212]\tvalid_0's multi_logloss: 0.253311\n",
      "[213]\tvalid_0's multi_logloss: 0.253444\n",
      "Early stopping, best iteration is:\n",
      "[113]\tvalid_0's multi_logloss: 0.242458\n"
     ]
    }
   ],
   "source": [
    "import lightgbm\n",
    "from sklearn.model_selection import train_test_split\n",
    "\n",
    "X_train, X_test, y_train, y_test = train_test_split(train, target, test_size=0.4, random_state=0)\n",
    "\n",
    "clf = lightgbm\n",
    "\n",
    "train_matrix = clf.Dataset(X_train, label=y_train)\n",
    "test_matrix = clf.Dataset(X_test, label=y_test)\n",
    "params = {\n",
    "          'boosting_type': 'gbdt',\n",
    "          #'boosting_type': 'dart',\n",
    "          'objective': 'multiclass',\n",
    "          'metric': 'multi_logloss',\n",
    "          'min_child_weight': 1.5,\n",
    "          'num_leaves': 2**5,\n",
    "          'lambda_l2': 10,\n",
    "          'subsample': 0.7,\n",
    "          'colsample_bytree': 0.7,\n",
    "          'colsample_bylevel': 0.7,\n",
    "          'learning_rate': 0.03,\n",
    "          'tree_method': 'exact',\n",
    "          'seed': 2017,\n",
    "          \"num_class\": 2,\n",
    "          'silent': True,\n",
    "          }\n",
    "num_round = 10000\n",
    "early_stopping_rounds = 100\n",
    "model = clf.train(params, \n",
    "                  train_matrix,\n",
    "                  num_round,\n",
    "                  valid_sets=test_matrix,\n",
    "                  early_stopping_rounds=early_stopping_rounds)"
   ]
  },
  {
   "cell_type": "code",
   "execution_count": 64,
   "metadata": {},
   "outputs": [],
   "source": [
    "def lgb_transform(train, test, model, topK):\n",
    "    train_df = pd.DataFrame(train)\n",
    "    train_df.columns = range(train.shape[1])\n",
    "    \n",
    "    test_df = pd.DataFrame(test)\n",
    "    test_df.columns = range(test.shape[1])\n",
    "    \n",
    "    features_import = pd.DataFrame()\n",
    "    features_import['importance'] = model.feature_importance()\n",
    "    features_import['col'] = range(train.shape[1])\n",
    "    \n",
    "    features_import = features_import.sort_values(['importance'],ascending=0).head(topK)\n",
    "    sel_col = list(features_import.col)\n",
    "    \n",
    "    train_sel = train_df[sel_col]\n",
    "    test_sel = test_df[sel_col]\n",
    "    return train_sel, test_sel"
   ]
  },
  {
   "cell_type": "code",
   "execution_count": 66,
   "metadata": {},
   "outputs": [
    {
     "name": "stdout",
     "output_type": "stream",
     "text": [
      "训练数据未特征筛选维度 (10000, 229)\n",
      "训练数据未特征筛选维度后 (10000, 20)\n"
     ]
    }
   ],
   "source": [
    "train_sel, test_sel = lgb_transform(train, test, model, 20)\n",
    "print('训练数据未特征筛选维度', train.shape)\n",
    "print('训练数据特征筛选维度后', train_sel.shape)"
   ]
  },
  {
   "cell_type": "markdown",
   "metadata": {},
   "source": [
    "### lgb特征重要性"
   ]
  },
  {
   "cell_type": "code",
   "execution_count": 67,
   "metadata": {},
   "outputs": [
    {
     "data": {
      "text/plain": [
       "array([43, 27,  0, 22,  6, 47, 10, 70, 86,  0])"
      ]
     },
     "execution_count": 67,
     "metadata": {},
     "output_type": "execute_result"
    }
   ],
   "source": [
    "model.feature_importance()[:10]"
   ]
  },
  {
   "cell_type": "markdown",
   "metadata": {},
   "source": [
    "### 特征选择前后区别"
   ]
  },
  {
   "cell_type": "code",
   "execution_count": 68,
   "metadata": {},
   "outputs": [
    {
     "name": "stdout",
     "output_type": "stream",
     "text": [
      "No Select Accuracy: 0.94 (+/- 0.00)\n",
      "Features Select Accuracy: 0.94 (+/- 0.00)\n"
     ]
    }
   ],
   "source": [
    "feature_selection(train, train_sel, target)"
   ]
  }
 ],
 "metadata": {
  "kernelspec": {
   "display_name": "Python 3",
   "language": "python",
   "name": "python3"
  },
  "language_info": {
   "codemirror_mode": {
    "name": "ipython",
    "version": 3
   },
   "file_extension": ".py",
   "mimetype": "text/x-python",
   "name": "python",
   "nbconvert_exporter": "python",
   "pygments_lexer": "ipython3",
   "version": "3.6.5"
  },
  "latex_envs": {
   "LaTeX_envs_menu_present": true,
   "autoclose": false,
   "autocomplete": true,
   "bibliofile": "biblio.bib",
   "cite_by": "apalike",
   "current_citInitial": 1,
   "eqLabelWithNumbers": true,
   "eqNumInitial": 1,
   "hotkeys": {
    "equation": "Ctrl-E",
    "itemize": "Ctrl-I"
   },
   "labels_anchors": false,
   "latex_user_defs": false,
   "report_style_numbering": false,
   "user_envs_cfg": false
  }
 },
 "nbformat": 4,
 "nbformat_minor": 2
}
