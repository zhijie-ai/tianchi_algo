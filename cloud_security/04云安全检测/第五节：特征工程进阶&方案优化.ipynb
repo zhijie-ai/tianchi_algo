{
 "cells": [
  {
   "cell_type": "markdown",
   "metadata": {},
   "source": [
    "## 第五节：特征工程进阶&方案优化"
   ]
  },
  {
   "cell_type": "markdown",
   "metadata": {},
   "source": [
    "### 工具包导入"
   ]
  },
  {
   "cell_type": "code",
   "execution_count": 1,
   "metadata": {},
   "outputs": [],
   "source": [
    "import pandas as pd\n",
    "import numpy as np\n",
    "import seaborn as sns\n",
    "import matplotlib.pyplot as plt\n",
    "\n",
    "import lightgbm as lgb\n",
    "from sklearn.model_selection import train_test_split\n",
    "from sklearn.preprocessing import OneHotEncoder\n",
    "\n",
    "from tqdm import tqdm_notebook\n",
    "\n",
    "import warnings\n",
    "warnings.filterwarnings('ignore')\n",
    "%matplotlib inline"
   ]
  },
  {
   "cell_type": "markdown",
   "metadata": {},
   "source": [
    "### 内存工具包"
   ]
  },
  {
   "cell_type": "code",
   "execution_count": 2,
   "metadata": {},
   "outputs": [],
   "source": [
    "import numpy as np\n",
    "import pandas as pd\n",
    "from tqdm import tqdm  \n",
    "\n",
    "class _Data_Preprocess:\n",
    "    def __init__(self):\n",
    "        self.int8_max = np.iinfo(np.int8).max\n",
    "        self.int8_min = np.iinfo(np.int8).min\n",
    "\n",
    "        self.int16_max = np.iinfo(np.int16).max\n",
    "        self.int16_min = np.iinfo(np.int16).min\n",
    "\n",
    "        self.int32_max = np.iinfo(np.int32).max\n",
    "        self.int32_min = np.iinfo(np.int32).min\n",
    "\n",
    "        self.int64_max = np.iinfo(np.int64).max\n",
    "        self.int64_min = np.iinfo(np.int64).min\n",
    "\n",
    "        self.float16_max = np.finfo(np.float16).max\n",
    "        self.float16_min = np.finfo(np.float16).min\n",
    "\n",
    "        self.float32_max = np.finfo(np.float32).max\n",
    "        self.float32_min = np.finfo(np.float32).min\n",
    "\n",
    "        self.float64_max = np.finfo(np.float64).max\n",
    "        self.float64_min = np.finfo(np.float64).min\n",
    "\n",
    "    def _get_type(self, min_val, max_val, types):\n",
    "        if types == 'int':\n",
    "            if max_val <= self.int8_max and min_val >= self.int8_min:\n",
    "                return np.int8\n",
    "            elif max_val <= self.int16_max <= max_val and min_val >= self.int16_min:\n",
    "                return np.int16\n",
    "            elif max_val <= self.int32_max and min_val >= self.int32_min:\n",
    "                return np.int32\n",
    "            return None\n",
    "\n",
    "        elif types == 'float':\n",
    "            if max_val <= self.float16_max and min_val >= self.float16_min:\n",
    "                return np.float16\n",
    "            if max_val <= self.float32_max and min_val >= self.float32_min:\n",
    "                return np.float32\n",
    "            if max_val <= self.float64_max and min_val >= self.float64_min:\n",
    "                return np.float64\n",
    "            return None\n",
    "\n",
    "    def _memory_process(self, df):\n",
    "        init_memory = df.memory_usage().sum() / 1024 ** 2 / 1024\n",
    "        print('Original data occupies {} GB memory.'.format(init_memory))\n",
    "        df_cols = df.columns\n",
    "\n",
    "          \n",
    "        for col in tqdm_notebook(df_cols):\n",
    "            try:\n",
    "                if 'float' in str(df[col].dtypes):\n",
    "                    max_val = df[col].max()\n",
    "                    min_val = df[col].min()\n",
    "                    trans_types = self._get_type(min_val, max_val, 'float')\n",
    "                    if trans_types is not None:\n",
    "                        df[col] = df[col].astype(trans_types)\n",
    "                elif 'int' in str(df[col].dtypes):\n",
    "                    max_val = df[col].max()\n",
    "                    min_val = df[col].min()\n",
    "                    trans_types = self._get_type(min_val, max_val, 'int')\n",
    "                    if trans_types is not None:\n",
    "                        df[col] = df[col].astype(trans_types)\n",
    "            except:\n",
    "                print(' Can not do any process for column, {}.'.format(col)) \n",
    "        afterprocess_memory = df.memory_usage().sum() / 1024 ** 2 / 1024\n",
    "        print('After processing, the data occupies {} GB memory.'.format(afterprocess_memory))\n",
    "        return df"
   ]
  },
  {
   "cell_type": "code",
   "execution_count": 3,
   "metadata": {},
   "outputs": [],
   "source": [
    "memory_process = _Data_Preprocess()"
   ]
  },
  {
   "cell_type": "markdown",
   "metadata": {},
   "source": [
    "### 数据读取"
   ]
  },
  {
   "cell_type": "code",
   "execution_count": 4,
   "metadata": {},
   "outputs": [],
   "source": [
    "path  = '../security_data/'\n",
    "#train = pd.read_csv(path + 'security_train.csv')\n",
    "#test  = pd.read_csv(path + 'security_test.csv')\n",
    "train = pd.read_csv(path + 'security_train.csv',nrows=500000)\n",
    "test  = pd.read_csv(path + 'security_test.csv',nrows=5000)"
   ]
  },
  {
   "cell_type": "code",
   "execution_count": 5,
   "metadata": {
    "scrolled": true
   },
   "outputs": [
    {
     "data": {
      "text/html": [
       "<div>\n",
       "<style scoped>\n",
       "    .dataframe tbody tr th:only-of-type {\n",
       "        vertical-align: middle;\n",
       "    }\n",
       "\n",
       "    .dataframe tbody tr th {\n",
       "        vertical-align: top;\n",
       "    }\n",
       "\n",
       "    .dataframe thead th {\n",
       "        text-align: right;\n",
       "    }\n",
       "</style>\n",
       "<table border=\"1\" class=\"dataframe\">\n",
       "  <thead>\n",
       "    <tr style=\"text-align: right;\">\n",
       "      <th></th>\n",
       "      <th>file_id</th>\n",
       "      <th>label</th>\n",
       "      <th>api</th>\n",
       "      <th>tid</th>\n",
       "      <th>index</th>\n",
       "    </tr>\n",
       "  </thead>\n",
       "  <tbody>\n",
       "    <tr>\n",
       "      <td>0</td>\n",
       "      <td>1</td>\n",
       "      <td>5</td>\n",
       "      <td>LdrLoadDll</td>\n",
       "      <td>2488</td>\n",
       "      <td>0</td>\n",
       "    </tr>\n",
       "    <tr>\n",
       "      <td>1</td>\n",
       "      <td>1</td>\n",
       "      <td>5</td>\n",
       "      <td>LdrGetProcedureAddress</td>\n",
       "      <td>2488</td>\n",
       "      <td>1</td>\n",
       "    </tr>\n",
       "    <tr>\n",
       "      <td>2</td>\n",
       "      <td>1</td>\n",
       "      <td>5</td>\n",
       "      <td>LdrGetProcedureAddress</td>\n",
       "      <td>2488</td>\n",
       "      <td>2</td>\n",
       "    </tr>\n",
       "    <tr>\n",
       "      <td>3</td>\n",
       "      <td>1</td>\n",
       "      <td>5</td>\n",
       "      <td>LdrGetProcedureAddress</td>\n",
       "      <td>2488</td>\n",
       "      <td>3</td>\n",
       "    </tr>\n",
       "    <tr>\n",
       "      <td>4</td>\n",
       "      <td>1</td>\n",
       "      <td>5</td>\n",
       "      <td>LdrGetProcedureAddress</td>\n",
       "      <td>2488</td>\n",
       "      <td>4</td>\n",
       "    </tr>\n",
       "  </tbody>\n",
       "</table>\n",
       "</div>"
      ],
      "text/plain": [
       "   file_id  label                     api   tid  index\n",
       "0        1      5              LdrLoadDll  2488      0\n",
       "1        1      5  LdrGetProcedureAddress  2488      1\n",
       "2        1      5  LdrGetProcedureAddress  2488      2\n",
       "3        1      5  LdrGetProcedureAddress  2488      3\n",
       "4        1      5  LdrGetProcedureAddress  2488      4"
      ]
     },
     "execution_count": 5,
     "metadata": {},
     "output_type": "execute_result"
    }
   ],
   "source": [
    "train.head()"
   ]
  },
  {
   "cell_type": "code",
   "execution_count": 6,
   "metadata": {},
   "outputs": [],
   "source": [
    "def simple_sts_features(df):\n",
    "    simple_fea             = pd.DataFrame()\n",
    "    simple_fea['file_id']  = df['file_id'].unique()\n",
    "    simple_fea             = simple_fea.sort_values('file_id')\n",
    "     \n",
    "    df_grp = df.groupby('file_id')\n",
    "    simple_fea['file_id_api_count']   = df_grp['api'].count().values\n",
    "    simple_fea['file_id_api_nunique'] = df_grp['api'].nunique().values\n",
    "    \n",
    "    simple_fea['file_id_tid_count']   = df_grp['tid'].count().values\n",
    "    simple_fea['file_id_tid_nunique'] = df_grp['tid'].nunique().values\n",
    "    \n",
    "    simple_fea['file_id_index_count']   = df_grp['index'].count().values\n",
    "    simple_fea['file_id_index_nunique'] = df_grp['index'].nunique().values\n",
    "    \n",
    "    return simple_fea"
   ]
  },
  {
   "cell_type": "code",
   "execution_count": 7,
   "metadata": {},
   "outputs": [
    {
     "name": "stdout",
     "output_type": "stream",
     "text": [
      "Wall time: 805 ms\n"
     ]
    }
   ],
   "source": [
    "%%time\n",
    "simple_train_fea1 = simple_sts_features(train)"
   ]
  },
  {
   "cell_type": "code",
   "execution_count": 8,
   "metadata": {},
   "outputs": [
    {
     "name": "stdout",
     "output_type": "stream",
     "text": [
      "Wall time: 18 ms\n"
     ]
    }
   ],
   "source": [
    "%%time\n",
    "simple_test_fea1 = simple_sts_features(test)"
   ]
  },
  {
   "cell_type": "code",
   "execution_count": 9,
   "metadata": {},
   "outputs": [],
   "source": [
    "def simple_numerical_sts_features(df):\n",
    "    simple_numerical_fea             = pd.DataFrame()\n",
    "    simple_numerical_fea['file_id']  = df['file_id'].unique()\n",
    "    simple_numerical_fea             = simple_numerical_fea.sort_values('file_id')\n",
    "     \n",
    "    df_grp = df.groupby('file_id')\n",
    "    \n",
    "    simple_numerical_fea['file_id_tid_mean']  = df_grp['tid'].mean().values\n",
    "    simple_numerical_fea['file_id_tid_min']   = df_grp['tid'].min().values\n",
    "    simple_numerical_fea['file_id_tid_std']   = df_grp['tid'].std().values\n",
    "    simple_numerical_fea['file_id_tid_max']   = df_grp['tid'].max().values\n",
    "    \n",
    "    \n",
    "    simple_numerical_fea['file_id_index_mean']= df_grp['index'].mean().values\n",
    "    simple_numerical_fea['file_id_index_min'] = df_grp['index'].min().values\n",
    "    simple_numerical_fea['file_id_index_std'] = df_grp['index'].std().values\n",
    "    simple_numerical_fea['file_id_index_max'] = df_grp['index'].max().values\n",
    "    \n",
    "    return simple_numerical_fea"
   ]
  },
  {
   "cell_type": "code",
   "execution_count": 10,
   "metadata": {
    "scrolled": true
   },
   "outputs": [
    {
     "name": "stdout",
     "output_type": "stream",
     "text": [
      "Wall time: 88 ms\n"
     ]
    }
   ],
   "source": [
    "%%time\n",
    "simple_train_fea2 = simple_numerical_sts_features(train)"
   ]
  },
  {
   "cell_type": "code",
   "execution_count": 11,
   "metadata": {},
   "outputs": [
    {
     "name": "stdout",
     "output_type": "stream",
     "text": [
      "Wall time: 19 ms\n"
     ]
    }
   ],
   "source": [
    "%%time\n",
    "simple_test_fea2 = simple_numerical_sts_features(test)"
   ]
  },
  {
   "cell_type": "code",
   "execution_count": 12,
   "metadata": {},
   "outputs": [],
   "source": [
    "def api_pivot_count_features(df):\n",
    "    tmp = df.groupby(['file_id','api'])['tid'].count().to_frame('api_tid_count').reset_index()\n",
    "    tmp_pivot = pd.pivot_table(data=tmp,index = 'file_id',columns='api',values='api_tid_count',fill_value=0)\n",
    "    tmp_pivot.columns = [tmp_pivot.columns.names[0] + '_pivot_'+ str(col) for col in tmp_pivot.columns]\n",
    "    tmp_pivot.reset_index(inplace = True)\n",
    "    tmp_pivot = memory_process._memory_process(tmp_pivot)\n",
    "    return tmp_pivot "
   ]
  },
  {
   "cell_type": "code",
   "execution_count": 13,
   "metadata": {
    "scrolled": true
   },
   "outputs": [
    {
     "name": "stdout",
     "output_type": "stream",
     "text": [
      "Original data occupies 0.0001841336488723755 GB memory.\n"
     ]
    },
    {
     "data": {
      "application/vnd.jupyter.widget-view+json": {
       "model_id": "fe941675a58c46d58d7b8307aaa89d4f",
       "version_major": 2,
       "version_minor": 0
      },
      "text/plain": [
       "HBox(children=(IntProgress(value=0, max=233), HTML(value='')))"
      ]
     },
     "metadata": {},
     "output_type": "display_data"
    },
    {
     "name": "stdout",
     "output_type": "stream",
     "text": [
      "\n",
      "After processing, the data occupies 4.740618169307709e-05 GB memory.\n",
      "Wall time: 545 ms\n"
     ]
    }
   ],
   "source": [
    "%%time\n",
    "simple_train_fea3 = api_pivot_count_features(train)"
   ]
  },
  {
   "cell_type": "code",
   "execution_count": 14,
   "metadata": {},
   "outputs": [
    {
     "name": "stdout",
     "output_type": "stream",
     "text": [
      "Original data occupies 5.334615707397461e-06 GB memory.\n"
     ]
    },
    {
     "data": {
      "application/vnd.jupyter.widget-view+json": {
       "model_id": "13b3a99ef52946ac9744be2998310037",
       "version_major": 2,
       "version_minor": 0
      },
      "text/plain": [
       "HBox(children=(IntProgress(value=0), HTML(value='')))"
      ]
     },
     "metadata": {},
     "output_type": "display_data"
    },
    {
     "name": "stdout",
     "output_type": "stream",
     "text": [
      "\n",
      "After processing, the data occupies 9.080395102500916e-07 GB memory.\n",
      "Wall time: 224 ms\n"
     ]
    }
   ],
   "source": [
    "%%time\n",
    "simple_test_fea3 = api_pivot_count_features(test)"
   ]
  },
  {
   "cell_type": "code",
   "execution_count": 15,
   "metadata": {},
   "outputs": [],
   "source": [
    "def api_pivot_nunique_features(df):\n",
    "    tmp = df.groupby(['file_id','api'])['tid'].nunique().to_frame('api_tid_nunique').reset_index()\n",
    "    tmp_pivot = pd.pivot_table(data=tmp,index = 'file_id',columns='api',values='api_tid_nunique',fill_value=0)\n",
    "    tmp_pivot.columns = [tmp_pivot.columns.names[0] + '_pivot_'+ str(col) for col in tmp_pivot.columns]\n",
    "    tmp_pivot.reset_index(inplace = True)\n",
    "    tmp_pivot = memory_process._memory_process(tmp_pivot)\n",
    "    return tmp_pivot "
   ]
  },
  {
   "cell_type": "code",
   "execution_count": 16,
   "metadata": {},
   "outputs": [
    {
     "name": "stdout",
     "output_type": "stream",
     "text": [
      "Original data occupies 0.0001841336488723755 GB memory.\n"
     ]
    },
    {
     "data": {
      "application/vnd.jupyter.widget-view+json": {
       "model_id": "a3f6fbd140f9490ca74e2290610be201",
       "version_major": 2,
       "version_minor": 0
      },
      "text/plain": [
       "HBox(children=(IntProgress(value=0, max=233), HTML(value='')))"
      ]
     },
     "metadata": {},
     "output_type": "display_data"
    },
    {
     "name": "stdout",
     "output_type": "stream",
     "text": [
      "\n",
      "After processing, the data occupies 4.740618169307709e-05 GB memory.\n",
      "Wall time: 537 ms\n"
     ]
    }
   ],
   "source": [
    "%%time\n",
    "simple_train_fea4 = api_pivot_count_features(train)"
   ]
  },
  {
   "cell_type": "code",
   "execution_count": 17,
   "metadata": {},
   "outputs": [
    {
     "name": "stdout",
     "output_type": "stream",
     "text": [
      "Original data occupies 5.334615707397461e-06 GB memory.\n"
     ]
    },
    {
     "data": {
      "application/vnd.jupyter.widget-view+json": {
       "model_id": "8a08fcbc500041a1aad8c96084023935",
       "version_major": 2,
       "version_minor": 0
      },
      "text/plain": [
       "HBox(children=(IntProgress(value=0), HTML(value='')))"
      ]
     },
     "metadata": {},
     "output_type": "display_data"
    },
    {
     "name": "stdout",
     "output_type": "stream",
     "text": [
      "\n",
      "After processing, the data occupies 9.080395102500916e-07 GB memory.\n",
      "Wall time: 246 ms\n"
     ]
    }
   ],
   "source": [
    "%%time\n",
    "simple_test_fea4 = api_pivot_count_features(test)"
   ]
  },
  {
   "cell_type": "code",
   "execution_count": 18,
   "metadata": {},
   "outputs": [],
   "source": [
    "train_label = train[['file_id','label']].drop_duplicates(subset = ['file_id','label'], keep = 'first')\n",
    "test_submit = test[['file_id']].drop_duplicates(subset = ['file_id'], keep = 'first')"
   ]
  },
  {
   "cell_type": "markdown",
   "metadata": {},
   "source": [
    "### 训练集&测试集构建"
   ]
  },
  {
   "cell_type": "code",
   "execution_count": 19,
   "metadata": {},
   "outputs": [],
   "source": [
    "train_data = train_label.merge(simple_train_fea1, on ='file_id', how='left')\n",
    "train_data = train_data.merge(simple_train_fea2, on ='file_id', how='left')\n",
    "train_data = train_data.merge(simple_train_fea3, on ='file_id', how='left')\n",
    "train_data = train_data.merge(simple_train_fea4, on ='file_id', how='left')"
   ]
  },
  {
   "cell_type": "code",
   "execution_count": 20,
   "metadata": {},
   "outputs": [],
   "source": [
    "test_submit = test_submit.merge(simple_test_fea1, on ='file_id', how='left')\n",
    "test_submit = test_submit.merge(simple_test_fea2, on ='file_id', how='left')\n",
    "test_submit = test_submit.merge(simple_test_fea3, on ='file_id', how='left')\n",
    "test_submit = test_submit.merge(simple_test_fea4, on ='file_id', how='left')"
   ]
  },
  {
   "cell_type": "markdown",
   "metadata": {},
   "source": [
    "### 评估指标构建"
   ]
  },
  {
   "cell_type": "code",
   "execution_count": 21,
   "metadata": {},
   "outputs": [],
   "source": [
    "def lgb_logloss(preds,data):\n",
    "    labels_ = data.get_label()             \n",
    "    classes_ = np.unique(labels_) \n",
    "    preds_prob = []\n",
    "    for i in range(len(classes_)):\n",
    "        preds_prob.append(preds[i*len(labels_):(i+1) * len(labels_)] )\n",
    "        \n",
    "    preds_prob_ = np.vstack(preds_prob) \n",
    "    \n",
    "    loss = []\n",
    "    for i in range(preds_prob_.shape[1]):     \n",
    "        sum_ = 0\n",
    "        for j in range(preds_prob_.shape[0]): \n",
    "            pred = preds_prob_[j,i]           \n",
    "            if  j == labels_[i]:\n",
    "                sum_ += np.log(pred)\n",
    "            else:\n",
    "                sum_ += np.log(1 - pred)\n",
    "        loss.append(sum_)       \n",
    "    return 'loss is: ',-1 * (np.sum(loss) / preds_prob_.shape[1]),False"
   ]
  },
  {
   "cell_type": "markdown",
   "metadata": {},
   "source": [
    "## 模型交叉验证"
   ]
  },
  {
   "cell_type": "code",
   "execution_count": 22,
   "metadata": {},
   "outputs": [],
   "source": [
    "train_features = [col for col in train_data.columns if col not in ['label','file_id']]\n",
    "train_label    = 'label'"
   ]
  },
  {
   "cell_type": "code",
   "execution_count": 23,
   "metadata": {
    "scrolled": true
   },
   "outputs": [
    {
     "name": "stdout",
     "output_type": "stream",
     "text": [
      "fold n°0\n",
      "Training until validation scores don't improve for 100 rounds\n",
      "[50]\ttraining's multi_logloss: 1.80505\ttraining's loss is: : 2.46982\tvalid_1's multi_logloss: 2.05998\tvalid_1's loss is: : 1.62421\n",
      "[100]\ttraining's multi_logloss: 1.80505\ttraining's loss is: : 2.46982\tvalid_1's multi_logloss: 2.05998\tvalid_1's loss is: : 1.62421\n",
      "Early stopping, best iteration is:\n",
      "[1]\ttraining's multi_logloss: 1.80505\ttraining's loss is: : 2.46982\tvalid_1's multi_logloss: 2.05998\tvalid_1's loss is: : 1.62421\n",
      "fold n°1\n",
      "Training until validation scores don't improve for 100 rounds\n",
      "[50]\ttraining's multi_logloss: 1.81909\ttraining's loss is: : 2.37634\tvalid_1's multi_logloss: 1.77992\tvalid_1's loss is: : 1.54376\n",
      "[100]\ttraining's multi_logloss: 1.81909\ttraining's loss is: : 2.37634\tvalid_1's multi_logloss: 1.77992\tvalid_1's loss is: : 1.54376\n",
      "Early stopping, best iteration is:\n",
      "[1]\ttraining's multi_logloss: 1.81909\ttraining's loss is: : 2.37634\tvalid_1's multi_logloss: 1.77992\tvalid_1's loss is: : 1.54376\n",
      "fold n°2\n",
      "Training until validation scores don't improve for 100 rounds\n",
      "[50]\ttraining's multi_logloss: 1.84735\ttraining's loss is: : 2.4576\tvalid_1's multi_logloss: 1.79953\tvalid_1's loss is: : 2.17848\n",
      "[100]\ttraining's multi_logloss: 1.84735\ttraining's loss is: : 2.4576\tvalid_1's multi_logloss: 1.79953\tvalid_1's loss is: : 2.17848\n",
      "Early stopping, best iteration is:\n",
      "[1]\ttraining's multi_logloss: 1.84735\ttraining's loss is: : 2.4576\tvalid_1's multi_logloss: 1.79953\tvalid_1's loss is: : 2.17848\n",
      "fold n°3\n",
      "Training until validation scores don't improve for 100 rounds\n",
      "[50]\ttraining's multi_logloss: 1.76809\ttraining's loss is: : 2.34503\tvalid_1's multi_logloss: 2.49498\tvalid_1's loss is: : 3.13933\n",
      "[100]\ttraining's multi_logloss: 1.76809\ttraining's loss is: : 2.34503\tvalid_1's multi_logloss: 2.49498\tvalid_1's loss is: : 3.13933\n",
      "Early stopping, best iteration is:\n",
      "[1]\ttraining's multi_logloss: 1.76809\ttraining's loss is: : 2.34503\tvalid_1's multi_logloss: 2.49498\tvalid_1's loss is: : 3.13933\n",
      "fold n°4\n",
      "Training until validation scores don't improve for 100 rounds\n",
      "[50]\ttraining's multi_logloss: 1.82105\ttraining's loss is: : 2.40387\tvalid_1's multi_logloss: 1.75563\tvalid_1's loss is: : 2.42316\n",
      "[100]\ttraining's multi_logloss: 1.82105\ttraining's loss is: : 2.40387\tvalid_1's multi_logloss: 1.75563\tvalid_1's loss is: : 2.42316\n",
      "Early stopping, best iteration is:\n",
      "[1]\ttraining's multi_logloss: 1.82105\ttraining's loss is: : 2.40387\tvalid_1's multi_logloss: 1.75563\tvalid_1's loss is: : 2.42316\n",
      "Wall time: 6.81 s\n"
     ]
    }
   ],
   "source": [
    "%%time\n",
    "from sklearn.model_selection import StratifiedKFold,KFold\n",
    "params = {\n",
    "        'task':'train', \n",
    "        'num_leaves': 255,\n",
    "        'objective': 'multiclass',\n",
    "        'num_class': 8,\n",
    "        'min_data_in_leaf': 50,\n",
    "        'learning_rate': 0.05,\n",
    "        'feature_fraction': 0.85,\n",
    "        'bagging_fraction': 0.85,\n",
    "        'bagging_freq': 5, \n",
    "        'max_bin':128,\n",
    "        'random_state':100\n",
    "    }   \n",
    "\n",
    "folds = KFold(n_splits=5, shuffle=True, random_state=15)\n",
    "oof = np.zeros(len(train))\n",
    "\n",
    "predict_res = 0\n",
    "models = []\n",
    "for fold_, (trn_idx, val_idx) in enumerate(folds.split(train_data)):\n",
    "    print(\"fold n°{}\".format(fold_))\n",
    "    trn_data = lgb.Dataset(train_data.iloc[trn_idx][train_features], label=train_data.iloc[trn_idx][train_label].values)\n",
    "    val_data = lgb.Dataset(train_data.iloc[val_idx][train_features], label=train_data.iloc[val_idx][train_label].values) \n",
    "    \n",
    "    clf = lgb.train(params, trn_data, num_boost_round=2000,valid_sets=[trn_data,val_data], verbose_eval=50, early_stopping_rounds=100, feval=lgb_logloss) \n",
    "    models.append(clf)"
   ]
  },
  {
   "cell_type": "code",
   "execution_count": 24,
   "metadata": {},
   "outputs": [
    {
     "data": {
      "text/plain": [
       "<matplotlib.axes._subplots.AxesSubplot at 0x1342e56fb48>"
      ]
     },
     "execution_count": 24,
     "metadata": {},
     "output_type": "execute_result"
    },
    {
     "data": {
      "image/png": "[encoded data removed]",
      "text/plain": [
       "<Figure size 720x576 with 2 Axes>"
      ]
     },
     "metadata": {
      "needs_background": "light"
     },
     "output_type": "display_data"
    }
   ],
   "source": [
    "plt.figure(figsize=[10,8])\n",
    "sns.heatmap(train_data.iloc[:10000, 1:21].corr())"
   ]
  },
  {
   "cell_type": "markdown",
   "metadata": {},
   "source": [
    "### 特征重要性分析"
   ]
  },
  {
   "cell_type": "code",
   "execution_count": 25,
   "metadata": {},
   "outputs": [],
   "source": [
    "feature_importance             = pd.DataFrame()\n",
    "feature_importance['fea_name'] = train_features\n",
    "feature_importance['fea_imp']  = clf.feature_importance()\n",
    "feature_importance             = feature_importance.sort_values('fea_imp',ascending = False)"
   ]
  },
  {
   "cell_type": "code",
   "execution_count": 26,
   "metadata": {
    "scrolled": true
   },
   "outputs": [
    {
     "data": {
      "text/html": [
       "<div>\n",
       "<style scoped>\n",
       "    .dataframe tbody tr th:only-of-type {\n",
       "        vertical-align: middle;\n",
       "    }\n",
       "\n",
       "    .dataframe tbody tr th {\n",
       "        vertical-align: top;\n",
       "    }\n",
       "\n",
       "    .dataframe thead th {\n",
       "        text-align: right;\n",
       "    }\n",
       "</style>\n",
       "<table border=\"1\" class=\"dataframe\">\n",
       "  <thead>\n",
       "    <tr style=\"text-align: right;\">\n",
       "      <th></th>\n",
       "      <th>fea_name</th>\n",
       "      <th>fea_imp</th>\n",
       "    </tr>\n",
       "  </thead>\n",
       "  <tbody>\n",
       "    <tr>\n",
       "      <td>0</td>\n",
       "      <td>file_id_api_count</td>\n",
       "      <td>0</td>\n",
       "    </tr>\n",
       "    <tr>\n",
       "      <td>14</td>\n",
       "      <td>api_pivot_CertControlStore_x</td>\n",
       "      <td>0</td>\n",
       "    </tr>\n",
       "    <tr>\n",
       "      <td>3</td>\n",
       "      <td>file_id_tid_nunique</td>\n",
       "      <td>0</td>\n",
       "    </tr>\n",
       "    <tr>\n",
       "      <td>4</td>\n",
       "      <td>file_id_index_count</td>\n",
       "      <td>0</td>\n",
       "    </tr>\n",
       "    <tr>\n",
       "      <td>5</td>\n",
       "      <td>file_id_index_nunique</td>\n",
       "      <td>0</td>\n",
       "    </tr>\n",
       "    <tr>\n",
       "      <td>...</td>\n",
       "      <td>...</td>\n",
       "      <td>...</td>\n",
       "    </tr>\n",
       "    <tr>\n",
       "      <td>473</td>\n",
       "      <td>api_pivot_select_y</td>\n",
       "      <td>0</td>\n",
       "    </tr>\n",
       "    <tr>\n",
       "      <td>474</td>\n",
       "      <td>api_pivot_send_y</td>\n",
       "      <td>0</td>\n",
       "    </tr>\n",
       "    <tr>\n",
       "      <td>475</td>\n",
       "      <td>api_pivot_setsockopt_y</td>\n",
       "      <td>0</td>\n",
       "    </tr>\n",
       "    <tr>\n",
       "      <td>476</td>\n",
       "      <td>api_pivot_socket_y</td>\n",
       "      <td>0</td>\n",
       "    </tr>\n",
       "    <tr>\n",
       "      <td>477</td>\n",
       "      <td>api_pivot_timeGetTime_y</td>\n",
       "      <td>0</td>\n",
       "    </tr>\n",
       "  </tbody>\n",
       "</table>\n",
       "<p>478 rows × 2 columns</p>\n",
       "</div>"
      ],
      "text/plain": [
       "                         fea_name  fea_imp\n",
       "0               file_id_api_count        0\n",
       "14   api_pivot_CertControlStore_x        0\n",
       "3             file_id_tid_nunique        0\n",
       "4             file_id_index_count        0\n",
       "5           file_id_index_nunique        0\n",
       "..                            ...      ...\n",
       "473            api_pivot_select_y        0\n",
       "474              api_pivot_send_y        0\n",
       "475        api_pivot_setsockopt_y        0\n",
       "476            api_pivot_socket_y        0\n",
       "477       api_pivot_timeGetTime_y        0\n",
       "\n",
       "[478 rows x 2 columns]"
      ]
     },
     "execution_count": 26,
     "metadata": {},
     "output_type": "execute_result"
    }
   ],
   "source": [
    "feature_importance.sort_values('fea_imp',ascending = False)"
   ]
  },
  {
   "cell_type": "code",
   "execution_count": 27,
   "metadata": {},
   "outputs": [
    {
     "data": {
      "text/plain": [
       "<matplotlib.axes._subplots.AxesSubplot at 0x1342e8ffa08>"
      ]
     },
     "execution_count": 27,
     "metadata": {},
     "output_type": "execute_result"
    },
    {
     "data": {
      "text/plain": [
       "<Figure size 1440x720 with 0 Axes>"
      ]
     },
     "metadata": {},
     "output_type": "display_data"
    },
    {
     "data": {
      "image/png": "[encoded data removed]",
      "text/plain": [
       "<Figure size 1440x720 with 1 Axes>"
      ]
     },
     "metadata": {
      "needs_background": "light"
     },
     "output_type": "display_data"
    }
   ],
   "source": [
    "plt.figure(figsize=[20, 10,])\n",
    "plt.figure(figsize=[20, 10,])\n",
    "sns.barplot(x = feature_importance.iloc[:10]['fea_name'], y = feature_importance.iloc[:10]['fea_imp'])"
   ]
  },
  {
   "cell_type": "code",
   "execution_count": 28,
   "metadata": {},
   "outputs": [
    {
     "data": {
      "text/plain": [
       "<matplotlib.axes._subplots.AxesSubplot at 0x1342f021088>"
      ]
     },
     "execution_count": 28,
     "metadata": {},
     "output_type": "execute_result"
    },
    {
     "data": {
      "image/png": "[encoded data removed]",
      "text/plain": [
       "<Figure size 1440x720 with 1 Axes>"
      ]
     },
     "metadata": {
      "needs_background": "light"
     },
     "output_type": "display_data"
    }
   ],
   "source": [
    "plt.figure(figsize=[20, 10,])\n",
    "sns.barplot(x = feature_importance['fea_name'], y = feature_importance['fea_imp'])"
   ]
  },
  {
   "cell_type": "markdown",
   "metadata": {},
   "source": [
    "### 模型测试"
   ]
  },
  {
   "cell_type": "code",
   "execution_count": 29,
   "metadata": {},
   "outputs": [
    {
     "ename": "KeyError",
     "evalue": "\"['api_pivot_NtQueryMultipleValueKey_y', 'api_pivot_bind_y', 'api_pivot_FindWindowExW_y', 'api_pivot_RegQueryInfoKeyA_y', 'api_pivot_GetAdaptersAddresses_x', 'api_pivot_NtQueryFullAttributesFile_x', 'api_pivot_NtDeleteValueKey_x', 'api_pivot_RemoveDirectoryA_x', 'api_pivot_NtSetInformationFile_x', 'api_pivot_ReadProcessMemory_x', 'api_pivot_DrawTextExW_y', 'api_pivot_GlobalMemoryStatusEx_x', 'api_pivot_CryptAcquireContextW_y', 'api_pivot_HttpOpenRequestW_y', 'api_pivot_NtWriteFile_x', 'api_pivot_IWbemServices_ExecQuery_y', 'api_pivot_OpenServiceA_x', 'api_pivot_GetFileVersionInfoSizeW_x', 'api_pivot_HttpOpenRequestA_y', 'api_pivot_SetFilePointerEx_y', 'api_pivot_GetDiskFreeSpaceExW_y', 'api_pivot_Module32NextW_x', 'api_pivot_send_x', 'api_pivot_GetAsyncKeyState_y', 'api_pivot_NtEnumerateKey_y', 'api_pivot_SetEndOfFile_x', 'api_pivot_NtEnumerateValueKey_y', 'api_pivot_GetFileInformationByHandle_x', 'api_pivot_CoGetClassObject_x', 'api_pivot_GetSystemWindowsDirectoryA_x', 'api_pivot_connect_x', 'api_pivot_GlobalMemoryStatus_x', 'api_pivot_NtCreateKey_x', 'api_pivot_InternetConnectA_x', 'api_pivot_SetFileInformationByHandle_x', 'api_pivot_NtOpenDirectoryObject_y', 'api_pivot_GetFileVersionInfoSizeExW_y', 'api_pivot_WriteConsoleA_x', 'api_pivot_GetFileSizeEx_y', 'api_pivot_StartServiceW_y', 'api_pivot_GetUserNameA_x', 'api_pivot_CreateServiceW_y', 'api_pivot_setsockopt_y', 'api_pivot_WSASocketW_x', 'api_pivot_InternetSetStatusCallback_y', 'api_pivot_InternetCrackUrlW_y', 'api_pivot_InternetQueryOptionA_x', 'api_pivot_setsockopt_x', 'api_pivot_InternetConnectW_y', 'api_pivot_CryptAcquireContextA_x', 'api_pivot_InternetOpenA_x', 'api_pivot_SearchPathW_y', 'api_pivot_CryptCreateHash_x', 'api_pivot_FindWindowExW_x', 'api_pivot_WriteConsoleA_y', 'api_pivot_InternetReadFile_x', 'api_pivot_SetFileAttributesW_x', 'api_pivot_InternetSetStatusCallback_x', 'api_pivot_NtTerminateThread_x', 'api_pivot_InternetGetConnectedState_x', 'api_pivot_HttpQueryInfoA_x', 'api_pivot_InternetSetOptionA_x', 'api_pivot_socket_x', 'api_pivot_CryptHashData_x', 'api_pivot_GetFileInformationByHandle_y', 'api_pivot_StartServiceW_x', 'api_pivot_InternetQueryOptionA_y', 'api_pivot_SetFileTime_y', 'api_pivot_NetGetJoinInformation_y', 'api_pivot_NtDeviceIoControlFile_y', 'api_pivot_FindWindowA_y', 'api_pivot_InternetCloseHandle_x', 'api_pivot_OutputDebugStringA_y', 'api_pivot_NtWriteFile_y', 'api_pivot_EnumServicesStatusW_y', 'api_pivot_GetSystemDirectoryA_y', 'api_pivot_CoCreateInstanceEx_x', 'api_pivot_GetSystemDirectoryA_x', 'api_pivot_IWbemServices_ExecQuery_x', 'api_pivot_UnhookWindowsHookEx_y', 'api_pivot_GetFileInformationByHandleEx_y', 'api_pivot_GetDiskFreeSpaceExW_x', 'api_pivot_InternetCrackUrlA_x', 'api_pivot_InternetOpenW_x', 'api_pivot_SetFileInformationByHandle_y', 'api_pivot_SetFilePointerEx_x', 'api_pivot_GetKeyboardState_x', 'api_pivot_InternetConnectA_y', 'api_pivot_EncryptMessage_y', 'api_pivot_SetEndOfFile_y', 'api_pivot_UuidCreate_y', 'api_pivot_CryptAcquireContextW_x', 'api_pivot_CoCreateInstanceEx_y', 'api_pivot_EnumWindows_y', 'api_pivot_GetFileVersionInfoW_y', 'api_pivot_SetFileTime_x', 'api_pivot_GetVolumePathNameW_y', 'api_pivot_GlobalMemoryStatusEx_y', 'api_pivot_SetWindowsHookExA_x', 'api_pivot_ObtainUserAgentString_y', 'api_pivot_CertControlStore_y', 'api_pivot_LookupAccountSidW_y', 'api_pivot_InternetGetConnectedState_y', 'api_pivot_select_y', 'api_pivot_CryptExportKey_y', 'api_pivot_EnumWindows_x', 'api_pivot_InternetConnectW_x', 'api_pivot_RegEnumKeyExA_y', 'api_pivot_RtlAddVectoredExceptionHandler_x', 'api_pivot_RegQueryInfoKeyA_x', 'api_pivot_NtEnumerateKey_x', 'api_pivot_NtSuspendThread_y', 'api_pivot_RemoveDirectoryW_y', 'api_pivot_ioctlsocket_x', 'api_pivot_InternetOpenUrlA_y', 'api_pivot_NtReadVirtualMemory_x', 'api_pivot_GetAdaptersAddresses_y', 'api_pivot_DeviceIoControl_x', 'api_pivot_FindWindowW_y', 'api_pivot_closesocket_x', 'api_pivot_RtlAddVectoredExceptionHandler_y', 'api_pivot_GetFileSizeEx_x', 'api_pivot_InternetCrackUrlA_y', 'api_pivot_CryptExportKey_x', 'api_pivot_socket_y', 'api_pivot_InternetSetOptionA_y', 'api_pivot_RtlRemoveVectoredExceptionHandler_y', 'api_pivot_RtlAddVectoredContinueHandler_y', 'api_pivot_FindWindowExA_y', 'api_pivot_NtQuerySystemInformation_x', 'api_pivot_OpenServiceA_y', 'api_pivot_WriteProcessMemory_x', 'api_pivot_GetTimeZoneInformation_x', 'api_pivot_GetAddrInfoW_y', 'api_pivot_Module32FirstW_y', 'api_pivot_CertOpenStore_x', 'api_pivot_SetWindowsHookExA_y', 'api_pivot_HttpSendRequestW_y', 'api_pivot_Thread32Next_y', 'api_pivot_IsDebuggerPresent_y', 'api_pivot_ioctlsocket_y', 'api_pivot_WriteProcessMemory_y', 'api_pivot_NtDeviceIoControlFile_x', 'api_pivot_HttpOpenRequestA_x', 'api_pivot_gethostbyname_y', 'api_pivot_NtDeleteKey_x', 'api_pivot_CryptCreateHash_y', 'api_pivot_CoGetClassObject_y', 'api_pivot_GetFileInformationByHandleEx_x', 'api_pivot_RtlRemoveVectoredExceptionHandler_x', 'api_pivot_GetFileVersionInfoSizeW_y', 'api_pivot_timeGetTime_x', 'api_pivot_GetBestInterfaceEx_y', 'api_pivot_InternetReadFile_y', 'api_pivot_NtCreateKey_y', 'api_pivot_GetFileVersionInfoSizeExW_x', 'api_pivot_getaddrinfo_y', 'api_pivot_RegDeleteValueA_y', 'api_pivot_FindWindowA_x', 'api_pivot_RegEnumKeyExA_x', 'api_pivot_GetAdaptersInfo_y', 'api_pivot_NtQueryFullAttributesFile_y', 'api_pivot_GetDiskFreeSpaceW_y', 'api_pivot_InternetOpenUrlA_x', 'api_pivot_getsockname_x', 'api_pivot_CryptHashData_y', 'api_pivot_FindWindowExA_x', 'api_pivot_bind_x', 'api_pivot_GlobalMemoryStatus_y', 'api_pivot_listen_y', 'api_pivot_CertControlStore_x', 'api_pivot_GetFileVersionInfoExW_x', 'api_pivot_SetFileAttributesW_y', 'api_pivot_NtOpenDirectoryObject_x', 'api_pivot_HttpSendRequestA_y', 'api_pivot_DeviceIoControl_y', 'api_pivot_RemoveDirectoryA_y', 'api_pivot_CryptAcquireContextA_y', 'api_pivot_EnumServicesStatusW_x', 'api_pivot_NetShareEnum_y', 'api_pivot_GetKeyboardState_y', 'api_pivot_DrawTextExW_x', 'api_pivot_GetTimeZoneInformation_y', 'api_pivot_InternetOpenW_y', 'api_pivot_NetShareEnum_x', 'api_pivot_RegisterHotKey_x', 'api_pivot_gethostbyname_x', 'api_pivot_Thread32Next_x', 'api_pivot_InternetCrackUrlW_x', 'api_pivot_GetUserNameExW_y', 'api_pivot_NtEnumerateValueKey_x', 'api_pivot_timeGetTime_y', 'api_pivot_getaddrinfo_x', 'api_pivot_NtSetInformationFile_y', 'api_pivot_NtQueryMultipleValueKey_x', 'api_pivot_HttpOpenRequestW_x', 'api_pivot_GetSystemWindowsDirectoryA_y', 'api_pivot_FindResourceExA_x', 'api_pivot_DrawTextExA_x', 'api_pivot_GetVolumePathNameW_x', 'api_pivot_OutputDebugStringA_x', 'api_pivot_InternetCloseHandle_y', 'api_pivot_GetFileVersionInfoW_x', 'api_pivot_HttpSendRequestA_x', 'api_pivot_HttpSendRequestW_x', 'api_pivot_OpenSCManagerW_y', 'api_pivot_listen_x', 'api_pivot_GetFileVersionInfoExW_y', 'api_pivot_GetAddrInfoW_x', 'api_pivot_SearchPathW_x', 'api_pivot_OpenServiceW_x', 'api_pivot_LookupPrivilegeValueW_x', 'api_pivot_RegEnumValueA_y', 'api_pivot_NtOpenMutant_x', 'api_pivot_InternetOpenA_y', 'api_pivot_OpenServiceW_y', 'api_pivot_LookupPrivilegeValueW_y', 'api_pivot_UnhookWindowsHookEx_x', 'api_pivot_getsockname_y', 'api_pivot_RemoveDirectoryW_x', 'api_pivot_select_x', 'api_pivot_LookupAccountSidW_x', 'api_pivot_RegEnumValueA_x', 'api_pivot_EncryptMessage_x', 'api_pivot_GetUserNameA_y', 'api_pivot_Thread32First_x', 'api_pivot_GetBestInterfaceEx_x', 'api_pivot_DrawTextExA_y', 'api_pivot_NtTerminateThread_y', 'api_pivot_SetFilePointer_y', 'api_pivot_Thread32First_y', 'api_pivot_NtSuspendThread_x', 'api_pivot_FindResourceExA_y', 'api_pivot_NtOpenMutant_y', 'api_pivot_RtlAddVectoredContinueHandler_x', 'api_pivot_CoInitializeSecurity_y', 'api_pivot_NtQuerySystemInformation_y', 'api_pivot_CreateServiceW_x', 'api_pivot_send_y', 'api_pivot_NtDeleteKey_y', 'api_pivot_SetFilePointer_x', 'api_pivot_CryptDecodeObjectEx_y', 'api_pivot_OpenSCManagerW_x', 'api_pivot_connect_y', 'api_pivot_ObtainUserAgentString_x', 'api_pivot_HttpQueryInfoA_y', 'api_pivot_CoInitializeSecurity_x', 'api_pivot_NetGetJoinInformation_x', 'api_pivot_GetAsyncKeyState_x', 'api_pivot_CertOpenStore_y', 'api_pivot_GetDiskFreeSpaceW_x', 'api_pivot_GetAdaptersInfo_x', 'api_pivot_ReadProcessMemory_y', 'api_pivot_RegDeleteValueA_x', 'api_pivot_NtDeleteValueKey_y', 'api_pivot_closesocket_y', 'api_pivot_WSASocketW_y', 'api_pivot_NtReadVirtualMemory_y', 'api_pivot_GetUserNameExW_x', 'api_pivot_IsDebuggerPresent_x', 'api_pivot_CryptDecodeObjectEx_x', 'api_pivot_UuidCreate_x', 'api_pivot_FindWindowW_x', 'api_pivot_Module32FirstW_x', 'api_pivot_Module32NextW_y', 'api_pivot_RegisterHotKey_y'] not in index\"",
     "output_type": "error",
     "traceback": [
      "\u001b[1;31m---------------------------------------------------------------------------\u001b[0m",
      "\u001b[1;31mKeyError\u001b[0m                                  Traceback (most recent call last)",
      "\u001b[1;32m<ipython-input-29-1efaea290f97>\u001b[0m in \u001b[0;36m<module>\u001b[1;34m\u001b[0m\n\u001b[0;32m      2\u001b[0m \u001b[0mfold\u001b[0m \u001b[1;33m=\u001b[0m \u001b[1;36m5\u001b[0m\u001b[1;33m\u001b[0m\u001b[1;33m\u001b[0m\u001b[0m\n\u001b[0;32m      3\u001b[0m \u001b[1;32mfor\u001b[0m \u001b[0mmodel\u001b[0m \u001b[1;32min\u001b[0m \u001b[0mmodels\u001b[0m\u001b[1;33m:\u001b[0m\u001b[1;33m\u001b[0m\u001b[1;33m\u001b[0m\u001b[0m\n\u001b[1;32m----> 4\u001b[1;33m     \u001b[0mpred_res\u001b[0m \u001b[1;33m+=\u001b[0m\u001b[0mmodel\u001b[0m\u001b[1;33m.\u001b[0m\u001b[0mpredict\u001b[0m\u001b[1;33m(\u001b[0m\u001b[0mtest_submit\u001b[0m\u001b[1;33m[\u001b[0m\u001b[0mtrain_features\u001b[0m\u001b[1;33m]\u001b[0m\u001b[1;33m)\u001b[0m \u001b[1;33m*\u001b[0m \u001b[1;36m1.0\u001b[0m \u001b[1;33m/\u001b[0m \u001b[0mfold\u001b[0m\u001b[1;33m\u001b[0m\u001b[1;33m\u001b[0m\u001b[0m\n\u001b[0m\u001b[0;32m      5\u001b[0m \u001b[1;33m\u001b[0m\u001b[0m\n\u001b[0;32m      6\u001b[0m \u001b[0mtest_submit\u001b[0m\u001b[1;33m[\u001b[0m\u001b[1;34m'api_pivot_EncryptMessage_x'\u001b[0m\u001b[1;33m]\u001b[0m \u001b[1;33m=\u001b[0m \u001b[1;36m0\u001b[0m\u001b[1;33m\u001b[0m\u001b[1;33m\u001b[0m\u001b[0m\n",
      "\u001b[1;32md:\\ProgramData\\Anaconda3\\lib\\site-packages\\pandas\\core\\frame.py\u001b[0m in \u001b[0;36m__getitem__\u001b[1;34m(self, key)\u001b[0m\n\u001b[0;32m   2984\u001b[0m             \u001b[1;32mif\u001b[0m \u001b[0mis_iterator\u001b[0m\u001b[1;33m(\u001b[0m\u001b[0mkey\u001b[0m\u001b[1;33m)\u001b[0m\u001b[1;33m:\u001b[0m\u001b[1;33m\u001b[0m\u001b[1;33m\u001b[0m\u001b[0m\n\u001b[0;32m   2985\u001b[0m                 \u001b[0mkey\u001b[0m \u001b[1;33m=\u001b[0m \u001b[0mlist\u001b[0m\u001b[1;33m(\u001b[0m\u001b[0mkey\u001b[0m\u001b[1;33m)\u001b[0m\u001b[1;33m\u001b[0m\u001b[1;33m\u001b[0m\u001b[0m\n\u001b[1;32m-> 2986\u001b[1;33m             \u001b[0mindexer\u001b[0m \u001b[1;33m=\u001b[0m \u001b[0mself\u001b[0m\u001b[1;33m.\u001b[0m\u001b[0mloc\u001b[0m\u001b[1;33m.\u001b[0m\u001b[0m_convert_to_indexer\u001b[0m\u001b[1;33m(\u001b[0m\u001b[0mkey\u001b[0m\u001b[1;33m,\u001b[0m \u001b[0maxis\u001b[0m\u001b[1;33m=\u001b[0m\u001b[1;36m1\u001b[0m\u001b[1;33m,\u001b[0m \u001b[0mraise_missing\u001b[0m\u001b[1;33m=\u001b[0m\u001b[1;32mTrue\u001b[0m\u001b[1;33m)\u001b[0m\u001b[1;33m\u001b[0m\u001b[1;33m\u001b[0m\u001b[0m\n\u001b[0m\u001b[0;32m   2987\u001b[0m \u001b[1;33m\u001b[0m\u001b[0m\n\u001b[0;32m   2988\u001b[0m         \u001b[1;31m# take() does not accept boolean indexers\u001b[0m\u001b[1;33m\u001b[0m\u001b[1;33m\u001b[0m\u001b[1;33m\u001b[0m\u001b[0m\n",
      "\u001b[1;32md:\\ProgramData\\Anaconda3\\lib\\site-packages\\pandas\\core\\indexing.py\u001b[0m in \u001b[0;36m_convert_to_indexer\u001b[1;34m(self, obj, axis, is_setter, raise_missing)\u001b[0m\n\u001b[0;32m   1283\u001b[0m                 \u001b[1;31m# When setting, missing keys are not allowed, even with .loc:\u001b[0m\u001b[1;33m\u001b[0m\u001b[1;33m\u001b[0m\u001b[1;33m\u001b[0m\u001b[0m\n\u001b[0;32m   1284\u001b[0m                 \u001b[0mkwargs\u001b[0m \u001b[1;33m=\u001b[0m \u001b[1;33m{\u001b[0m\u001b[1;34m\"raise_missing\"\u001b[0m\u001b[1;33m:\u001b[0m \u001b[1;32mTrue\u001b[0m \u001b[1;32mif\u001b[0m \u001b[0mis_setter\u001b[0m \u001b[1;32melse\u001b[0m \u001b[0mraise_missing\u001b[0m\u001b[1;33m}\u001b[0m\u001b[1;33m\u001b[0m\u001b[1;33m\u001b[0m\u001b[0m\n\u001b[1;32m-> 1285\u001b[1;33m                 \u001b[1;32mreturn\u001b[0m \u001b[0mself\u001b[0m\u001b[1;33m.\u001b[0m\u001b[0m_get_listlike_indexer\u001b[0m\u001b[1;33m(\u001b[0m\u001b[0mobj\u001b[0m\u001b[1;33m,\u001b[0m \u001b[0maxis\u001b[0m\u001b[1;33m,\u001b[0m \u001b[1;33m**\u001b[0m\u001b[0mkwargs\u001b[0m\u001b[1;33m)\u001b[0m\u001b[1;33m[\u001b[0m\u001b[1;36m1\u001b[0m\u001b[1;33m]\u001b[0m\u001b[1;33m\u001b[0m\u001b[1;33m\u001b[0m\u001b[0m\n\u001b[0m\u001b[0;32m   1286\u001b[0m         \u001b[1;32melse\u001b[0m\u001b[1;33m:\u001b[0m\u001b[1;33m\u001b[0m\u001b[1;33m\u001b[0m\u001b[0m\n\u001b[0;32m   1287\u001b[0m             \u001b[1;32mtry\u001b[0m\u001b[1;33m:\u001b[0m\u001b[1;33m\u001b[0m\u001b[1;33m\u001b[0m\u001b[0m\n",
      "\u001b[1;32md:\\ProgramData\\Anaconda3\\lib\\site-packages\\pandas\\core\\indexing.py\u001b[0m in \u001b[0;36m_get_listlike_indexer\u001b[1;34m(self, key, axis, raise_missing)\u001b[0m\n\u001b[0;32m   1090\u001b[0m \u001b[1;33m\u001b[0m\u001b[0m\n\u001b[0;32m   1091\u001b[0m         self._validate_read_indexer(\n\u001b[1;32m-> 1092\u001b[1;33m             \u001b[0mkeyarr\u001b[0m\u001b[1;33m,\u001b[0m \u001b[0mindexer\u001b[0m\u001b[1;33m,\u001b[0m \u001b[0mo\u001b[0m\u001b[1;33m.\u001b[0m\u001b[0m_get_axis_number\u001b[0m\u001b[1;33m(\u001b[0m\u001b[0maxis\u001b[0m\u001b[1;33m)\u001b[0m\u001b[1;33m,\u001b[0m \u001b[0mraise_missing\u001b[0m\u001b[1;33m=\u001b[0m\u001b[0mraise_missing\u001b[0m\u001b[1;33m\u001b[0m\u001b[1;33m\u001b[0m\u001b[0m\n\u001b[0m\u001b[0;32m   1093\u001b[0m         )\n\u001b[0;32m   1094\u001b[0m         \u001b[1;32mreturn\u001b[0m \u001b[0mkeyarr\u001b[0m\u001b[1;33m,\u001b[0m \u001b[0mindexer\u001b[0m\u001b[1;33m\u001b[0m\u001b[1;33m\u001b[0m\u001b[0m\n",
      "\u001b[1;32md:\\ProgramData\\Anaconda3\\lib\\site-packages\\pandas\\core\\indexing.py\u001b[0m in \u001b[0;36m_validate_read_indexer\u001b[1;34m(self, key, indexer, axis, raise_missing)\u001b[0m\n\u001b[0;32m   1183\u001b[0m             \u001b[1;32mif\u001b[0m \u001b[1;32mnot\u001b[0m \u001b[1;33m(\u001b[0m\u001b[0mself\u001b[0m\u001b[1;33m.\u001b[0m\u001b[0mname\u001b[0m \u001b[1;33m==\u001b[0m \u001b[1;34m\"loc\"\u001b[0m \u001b[1;32mand\u001b[0m \u001b[1;32mnot\u001b[0m \u001b[0mraise_missing\u001b[0m\u001b[1;33m)\u001b[0m\u001b[1;33m:\u001b[0m\u001b[1;33m\u001b[0m\u001b[1;33m\u001b[0m\u001b[0m\n\u001b[0;32m   1184\u001b[0m                 \u001b[0mnot_found\u001b[0m \u001b[1;33m=\u001b[0m \u001b[0mlist\u001b[0m\u001b[1;33m(\u001b[0m\u001b[0mset\u001b[0m\u001b[1;33m(\u001b[0m\u001b[0mkey\u001b[0m\u001b[1;33m)\u001b[0m \u001b[1;33m-\u001b[0m \u001b[0mset\u001b[0m\u001b[1;33m(\u001b[0m\u001b[0max\u001b[0m\u001b[1;33m)\u001b[0m\u001b[1;33m)\u001b[0m\u001b[1;33m\u001b[0m\u001b[1;33m\u001b[0m\u001b[0m\n\u001b[1;32m-> 1185\u001b[1;33m                 \u001b[1;32mraise\u001b[0m \u001b[0mKeyError\u001b[0m\u001b[1;33m(\u001b[0m\u001b[1;34m\"{} not in index\"\u001b[0m\u001b[1;33m.\u001b[0m\u001b[0mformat\u001b[0m\u001b[1;33m(\u001b[0m\u001b[0mnot_found\u001b[0m\u001b[1;33m)\u001b[0m\u001b[1;33m)\u001b[0m\u001b[1;33m\u001b[0m\u001b[1;33m\u001b[0m\u001b[0m\n\u001b[0m\u001b[0;32m   1186\u001b[0m \u001b[1;33m\u001b[0m\u001b[0m\n\u001b[0;32m   1187\u001b[0m             \u001b[1;31m# we skip the warning on Categorical/Interval\u001b[0m\u001b[1;33m\u001b[0m\u001b[1;33m\u001b[0m\u001b[1;33m\u001b[0m\u001b[0m\n",
      "\u001b[1;31mKeyError\u001b[0m: \"['api_pivot_NtQueryMultipleValueKey_y', 'api_pivot_bind_y', 'api_pivot_FindWindowExW_y', 'api_pivot_RegQueryInfoKeyA_y', 'api_pivot_GetAdaptersAddresses_x', 'api_pivot_NtQueryFullAttributesFile_x', 'api_pivot_NtDeleteValueKey_x', 'api_pivot_RemoveDirectoryA_x', 'api_pivot_NtSetInformationFile_x', 'api_pivot_ReadProcessMemory_x', 'api_pivot_DrawTextExW_y', 'api_pivot_GlobalMemoryStatusEx_x', 'api_pivot_CryptAcquireContextW_y', 'api_pivot_HttpOpenRequestW_y', 'api_pivot_NtWriteFile_x', 'api_pivot_IWbemServices_ExecQuery_y', 'api_pivot_OpenServiceA_x', 'api_pivot_GetFileVersionInfoSizeW_x', 'api_pivot_HttpOpenRequestA_y', 'api_pivot_SetFilePointerEx_y', 'api_pivot_GetDiskFreeSpaceExW_y', 'api_pivot_Module32NextW_x', 'api_pivot_send_x', 'api_pivot_GetAsyncKeyState_y', 'api_pivot_NtEnumerateKey_y', 'api_pivot_SetEndOfFile_x', 'api_pivot_NtEnumerateValueKey_y', 'api_pivot_GetFileInformationByHandle_x', 'api_pivot_CoGetClassObject_x', 'api_pivot_GetSystemWindowsDirectoryA_x', 'api_pivot_connect_x', 'api_pivot_GlobalMemoryStatus_x', 'api_pivot_NtCreateKey_x', 'api_pivot_InternetConnectA_x', 'api_pivot_SetFileInformationByHandle_x', 'api_pivot_NtOpenDirectoryObject_y', 'api_pivot_GetFileVersionInfoSizeExW_y', 'api_pivot_WriteConsoleA_x', 'api_pivot_GetFileSizeEx_y', 'api_pivot_StartServiceW_y', 'api_pivot_GetUserNameA_x', 'api_pivot_CreateServiceW_y', 'api_pivot_setsockopt_y', 'api_pivot_WSASocketW_x', 'api_pivot_InternetSetStatusCallback_y', 'api_pivot_InternetCrackUrlW_y', 'api_pivot_InternetQueryOptionA_x', 'api_pivot_setsockopt_x', 'api_pivot_InternetConnectW_y', 'api_pivot_CryptAcquireContextA_x', 'api_pivot_InternetOpenA_x', 'api_pivot_SearchPathW_y', 'api_pivot_CryptCreateHash_x', 'api_pivot_FindWindowExW_x', 'api_pivot_WriteConsoleA_y', 'api_pivot_InternetReadFile_x', 'api_pivot_SetFileAttributesW_x', 'api_pivot_InternetSetStatusCallback_x', 'api_pivot_NtTerminateThread_x', 'api_pivot_InternetGetConnectedState_x', 'api_pivot_HttpQueryInfoA_x', 'api_pivot_InternetSetOptionA_x', 'api_pivot_socket_x', 'api_pivot_CryptHashData_x', 'api_pivot_GetFileInformationByHandle_y', 'api_pivot_StartServiceW_x', 'api_pivot_InternetQueryOptionA_y', 'api_pivot_SetFileTime_y', 'api_pivot_NetGetJoinInformation_y', 'api_pivot_NtDeviceIoControlFile_y', 'api_pivot_FindWindowA_y', 'api_pivot_InternetCloseHandle_x', 'api_pivot_OutputDebugStringA_y', 'api_pivot_NtWriteFile_y', 'api_pivot_EnumServicesStatusW_y', 'api_pivot_GetSystemDirectoryA_y', 'api_pivot_CoCreateInstanceEx_x', 'api_pivot_GetSystemDirectoryA_x', 'api_pivot_IWbemServices_ExecQuery_x', 'api_pivot_UnhookWindowsHookEx_y', 'api_pivot_GetFileInformationByHandleEx_y', 'api_pivot_GetDiskFreeSpaceExW_x', 'api_pivot_InternetCrackUrlA_x', 'api_pivot_InternetOpenW_x', 'api_pivot_SetFileInformationByHandle_y', 'api_pivot_SetFilePointerEx_x', 'api_pivot_GetKeyboardState_x', 'api_pivot_InternetConnectA_y', 'api_pivot_EncryptMessage_y', 'api_pivot_SetEndOfFile_y', 'api_pivot_UuidCreate_y', 'api_pivot_CryptAcquireContextW_x', 'api_pivot_CoCreateInstanceEx_y', 'api_pivot_EnumWindows_y', 'api_pivot_GetFileVersionInfoW_y', 'api_pivot_SetFileTime_x', 'api_pivot_GetVolumePathNameW_y', 'api_pivot_GlobalMemoryStatusEx_y', 'api_pivot_SetWindowsHookExA_x', 'api_pivot_ObtainUserAgentString_y', 'api_pivot_CertControlStore_y', 'api_pivot_LookupAccountSidW_y', 'api_pivot_InternetGetConnectedState_y', 'api_pivot_select_y', 'api_pivot_CryptExportKey_y', 'api_pivot_EnumWindows_x', 'api_pivot_InternetConnectW_x', 'api_pivot_RegEnumKeyExA_y', 'api_pivot_RtlAddVectoredExceptionHandler_x', 'api_pivot_RegQueryInfoKeyA_x', 'api_pivot_NtEnumerateKey_x', 'api_pivot_NtSuspendThread_y', 'api_pivot_RemoveDirectoryW_y', 'api_pivot_ioctlsocket_x', 'api_pivot_InternetOpenUrlA_y', 'api_pivot_NtReadVirtualMemory_x', 'api_pivot_GetAdaptersAddresses_y', 'api_pivot_DeviceIoControl_x', 'api_pivot_FindWindowW_y', 'api_pivot_closesocket_x', 'api_pivot_RtlAddVectoredExceptionHandler_y', 'api_pivot_GetFileSizeEx_x', 'api_pivot_InternetCrackUrlA_y', 'api_pivot_CryptExportKey_x', 'api_pivot_socket_y', 'api_pivot_InternetSetOptionA_y', 'api_pivot_RtlRemoveVectoredExceptionHandler_y', 'api_pivot_RtlAddVectoredContinueHandler_y', 'api_pivot_FindWindowExA_y', 'api_pivot_NtQuerySystemInformation_x', 'api_pivot_OpenServiceA_y', 'api_pivot_WriteProcessMemory_x', 'api_pivot_GetTimeZoneInformation_x', 'api_pivot_GetAddrInfoW_y', 'api_pivot_Module32FirstW_y', 'api_pivot_CertOpenStore_x', 'api_pivot_SetWindowsHookExA_y', 'api_pivot_HttpSendRequestW_y', 'api_pivot_Thread32Next_y', 'api_pivot_IsDebuggerPresent_y', 'api_pivot_ioctlsocket_y', 'api_pivot_WriteProcessMemory_y', 'api_pivot_NtDeviceIoControlFile_x', 'api_pivot_HttpOpenRequestA_x', 'api_pivot_gethostbyname_y', 'api_pivot_NtDeleteKey_x', 'api_pivot_CryptCreateHash_y', 'api_pivot_CoGetClassObject_y', 'api_pivot_GetFileInformationByHandleEx_x', 'api_pivot_RtlRemoveVectoredExceptionHandler_x', 'api_pivot_GetFileVersionInfoSizeW_y', 'api_pivot_timeGetTime_x', 'api_pivot_GetBestInterfaceEx_y', 'api_pivot_InternetReadFile_y', 'api_pivot_NtCreateKey_y', 'api_pivot_GetFileVersionInfoSizeExW_x', 'api_pivot_getaddrinfo_y', 'api_pivot_RegDeleteValueA_y', 'api_pivot_FindWindowA_x', 'api_pivot_RegEnumKeyExA_x', 'api_pivot_GetAdaptersInfo_y', 'api_pivot_NtQueryFullAttributesFile_y', 'api_pivot_GetDiskFreeSpaceW_y', 'api_pivot_InternetOpenUrlA_x', 'api_pivot_getsockname_x', 'api_pivot_CryptHashData_y', 'api_pivot_FindWindowExA_x', 'api_pivot_bind_x', 'api_pivot_GlobalMemoryStatus_y', 'api_pivot_listen_y', 'api_pivot_CertControlStore_x', 'api_pivot_GetFileVersionInfoExW_x', 'api_pivot_SetFileAttributesW_y', 'api_pivot_NtOpenDirectoryObject_x', 'api_pivot_HttpSendRequestA_y', 'api_pivot_DeviceIoControl_y', 'api_pivot_RemoveDirectoryA_y', 'api_pivot_CryptAcquireContextA_y', 'api_pivot_EnumServicesStatusW_x', 'api_pivot_NetShareEnum_y', 'api_pivot_GetKeyboardState_y', 'api_pivot_DrawTextExW_x', 'api_pivot_GetTimeZoneInformation_y', 'api_pivot_InternetOpenW_y', 'api_pivot_NetShareEnum_x', 'api_pivot_RegisterHotKey_x', 'api_pivot_gethostbyname_x', 'api_pivot_Thread32Next_x', 'api_pivot_InternetCrackUrlW_x', 'api_pivot_GetUserNameExW_y', 'api_pivot_NtEnumerateValueKey_x', 'api_pivot_timeGetTime_y', 'api_pivot_getaddrinfo_x', 'api_pivot_NtSetInformationFile_y', 'api_pivot_NtQueryMultipleValueKey_x', 'api_pivot_HttpOpenRequestW_x', 'api_pivot_GetSystemWindowsDirectoryA_y', 'api_pivot_FindResourceExA_x', 'api_pivot_DrawTextExA_x', 'api_pivot_GetVolumePathNameW_x', 'api_pivot_OutputDebugStringA_x', 'api_pivot_InternetCloseHandle_y', 'api_pivot_GetFileVersionInfoW_x', 'api_pivot_HttpSendRequestA_x', 'api_pivot_HttpSendRequestW_x', 'api_pivot_OpenSCManagerW_y', 'api_pivot_listen_x', 'api_pivot_GetFileVersionInfoExW_y', 'api_pivot_GetAddrInfoW_x', 'api_pivot_SearchPathW_x', 'api_pivot_OpenServiceW_x', 'api_pivot_LookupPrivilegeValueW_x', 'api_pivot_RegEnumValueA_y', 'api_pivot_NtOpenMutant_x', 'api_pivot_InternetOpenA_y', 'api_pivot_OpenServiceW_y', 'api_pivot_LookupPrivilegeValueW_y', 'api_pivot_UnhookWindowsHookEx_x', 'api_pivot_getsockname_y', 'api_pivot_RemoveDirectoryW_x', 'api_pivot_select_x', 'api_pivot_LookupAccountSidW_x', 'api_pivot_RegEnumValueA_x', 'api_pivot_EncryptMessage_x', 'api_pivot_GetUserNameA_y', 'api_pivot_Thread32First_x', 'api_pivot_GetBestInterfaceEx_x', 'api_pivot_DrawTextExA_y', 'api_pivot_NtTerminateThread_y', 'api_pivot_SetFilePointer_y', 'api_pivot_Thread32First_y', 'api_pivot_NtSuspendThread_x', 'api_pivot_FindResourceExA_y', 'api_pivot_NtOpenMutant_y', 'api_pivot_RtlAddVectoredContinueHandler_x', 'api_pivot_CoInitializeSecurity_y', 'api_pivot_NtQuerySystemInformation_y', 'api_pivot_CreateServiceW_x', 'api_pivot_send_y', 'api_pivot_NtDeleteKey_y', 'api_pivot_SetFilePointer_x', 'api_pivot_CryptDecodeObjectEx_y', 'api_pivot_OpenSCManagerW_x', 'api_pivot_connect_y', 'api_pivot_ObtainUserAgentString_x', 'api_pivot_HttpQueryInfoA_y', 'api_pivot_CoInitializeSecurity_x', 'api_pivot_NetGetJoinInformation_x', 'api_pivot_GetAsyncKeyState_x', 'api_pivot_CertOpenStore_y', 'api_pivot_GetDiskFreeSpaceW_x', 'api_pivot_GetAdaptersInfo_x', 'api_pivot_ReadProcessMemory_y', 'api_pivot_RegDeleteValueA_x', 'api_pivot_NtDeleteValueKey_y', 'api_pivot_closesocket_y', 'api_pivot_WSASocketW_y', 'api_pivot_NtReadVirtualMemory_y', 'api_pivot_GetUserNameExW_x', 'api_pivot_IsDebuggerPresent_x', 'api_pivot_CryptDecodeObjectEx_x', 'api_pivot_UuidCreate_x', 'api_pivot_FindWindowW_x', 'api_pivot_Module32FirstW_x', 'api_pivot_Module32NextW_y', 'api_pivot_RegisterHotKey_y'] not in index\""
     ]
    }
   ],
   "source": [
    "pred_res = 0\n",
    "fold = 5\n",
    "for model in models:\n",
    "    pred_res +=model.predict(test_submit[train_features]) * 1.0 / fold \n",
    "\n",
    "test_submit['api_pivot_EncryptMessage_x'] = 0\n",
    "test_submit['api_pivot_EncryptMessage_y'] = 0 \n",
    "test_submit['api_pivot_RtlCompressBuffer_x'] = 0\n",
    "test_submit['api_pivot_RtlCompressBuffer_y'] = 0\n",
    "test_submit['api_pivot_WSASendTo_x'] = 0\n",
    "test_submit['api_pivot_WSASendTo_y'] = 0"
   ]
  },
  {
   "cell_type": "code",
   "execution_count": 30,
   "metadata": {},
   "outputs": [
    {
     "ename": "KeyError",
     "evalue": "\"['api_pivot_NtQueryMultipleValueKey_y', 'api_pivot_bind_y', 'api_pivot_FindWindowExW_y', 'api_pivot_RegQueryInfoKeyA_y', 'api_pivot_GetAdaptersAddresses_x', 'api_pivot_NtQueryFullAttributesFile_x', 'api_pivot_NtDeleteValueKey_x', 'api_pivot_RemoveDirectoryA_x', 'api_pivot_NtSetInformationFile_x', 'api_pivot_ReadProcessMemory_x', 'api_pivot_DrawTextExW_y', 'api_pivot_GlobalMemoryStatusEx_x', 'api_pivot_CryptAcquireContextW_y', 'api_pivot_HttpOpenRequestW_y', 'api_pivot_NtWriteFile_x', 'api_pivot_IWbemServices_ExecQuery_y', 'api_pivot_OpenServiceA_x', 'api_pivot_GetFileVersionInfoSizeW_x', 'api_pivot_HttpOpenRequestA_y', 'api_pivot_SetFilePointerEx_y', 'api_pivot_GetDiskFreeSpaceExW_y', 'api_pivot_Module32NextW_x', 'api_pivot_send_x', 'api_pivot_GetAsyncKeyState_y', 'api_pivot_NtEnumerateKey_y', 'api_pivot_SetEndOfFile_x', 'api_pivot_NtEnumerateValueKey_y', 'api_pivot_GetFileInformationByHandle_x', 'api_pivot_CoGetClassObject_x', 'api_pivot_GetSystemWindowsDirectoryA_x', 'api_pivot_connect_x', 'api_pivot_GlobalMemoryStatus_x', 'api_pivot_NtCreateKey_x', 'api_pivot_InternetConnectA_x', 'api_pivot_SetFileInformationByHandle_x', 'api_pivot_NtOpenDirectoryObject_y', 'api_pivot_GetFileVersionInfoSizeExW_y', 'api_pivot_WriteConsoleA_x', 'api_pivot_GetFileSizeEx_y', 'api_pivot_StartServiceW_y', 'api_pivot_GetUserNameA_x', 'api_pivot_CreateServiceW_y', 'api_pivot_setsockopt_y', 'api_pivot_WSASocketW_x', 'api_pivot_InternetSetStatusCallback_y', 'api_pivot_InternetCrackUrlW_y', 'api_pivot_InternetQueryOptionA_x', 'api_pivot_setsockopt_x', 'api_pivot_InternetConnectW_y', 'api_pivot_CryptAcquireContextA_x', 'api_pivot_InternetOpenA_x', 'api_pivot_SearchPathW_y', 'api_pivot_CryptCreateHash_x', 'api_pivot_FindWindowExW_x', 'api_pivot_WriteConsoleA_y', 'api_pivot_InternetReadFile_x', 'api_pivot_SetFileAttributesW_x', 'api_pivot_InternetSetStatusCallback_x', 'api_pivot_NtTerminateThread_x', 'api_pivot_InternetGetConnectedState_x', 'api_pivot_HttpQueryInfoA_x', 'api_pivot_InternetSetOptionA_x', 'api_pivot_socket_x', 'api_pivot_CryptHashData_x', 'api_pivot_GetFileInformationByHandle_y', 'api_pivot_StartServiceW_x', 'api_pivot_InternetQueryOptionA_y', 'api_pivot_SetFileTime_y', 'api_pivot_NetGetJoinInformation_y', 'api_pivot_NtDeviceIoControlFile_y', 'api_pivot_FindWindowA_y', 'api_pivot_InternetCloseHandle_x', 'api_pivot_OutputDebugStringA_y', 'api_pivot_NtWriteFile_y', 'api_pivot_EnumServicesStatusW_y', 'api_pivot_GetSystemDirectoryA_y', 'api_pivot_CoCreateInstanceEx_x', 'api_pivot_GetSystemDirectoryA_x', 'api_pivot_IWbemServices_ExecQuery_x', 'api_pivot_UnhookWindowsHookEx_y', 'api_pivot_GetFileInformationByHandleEx_y', 'api_pivot_GetDiskFreeSpaceExW_x', 'api_pivot_InternetCrackUrlA_x', 'api_pivot_InternetOpenW_x', 'api_pivot_SetFileInformationByHandle_y', 'api_pivot_SetFilePointerEx_x', 'api_pivot_GetKeyboardState_x', 'api_pivot_InternetConnectA_y', 'api_pivot_EncryptMessage_y', 'api_pivot_SetEndOfFile_y', 'api_pivot_UuidCreate_y', 'api_pivot_CryptAcquireContextW_x', 'api_pivot_CoCreateInstanceEx_y', 'api_pivot_EnumWindows_y', 'api_pivot_GetFileVersionInfoW_y', 'api_pivot_SetFileTime_x', 'api_pivot_GetVolumePathNameW_y', 'api_pivot_GlobalMemoryStatusEx_y', 'api_pivot_SetWindowsHookExA_x', 'api_pivot_ObtainUserAgentString_y', 'api_pivot_CertControlStore_y', 'api_pivot_LookupAccountSidW_y', 'api_pivot_InternetGetConnectedState_y', 'api_pivot_select_y', 'api_pivot_CryptExportKey_y', 'api_pivot_EnumWindows_x', 'api_pivot_InternetConnectW_x', 'api_pivot_RegEnumKeyExA_y', 'api_pivot_RtlAddVectoredExceptionHandler_x', 'api_pivot_RegQueryInfoKeyA_x', 'api_pivot_NtEnumerateKey_x', 'api_pivot_NtSuspendThread_y', 'api_pivot_RemoveDirectoryW_y', 'api_pivot_ioctlsocket_x', 'api_pivot_InternetOpenUrlA_y', 'api_pivot_NtReadVirtualMemory_x', 'api_pivot_GetAdaptersAddresses_y', 'api_pivot_DeviceIoControl_x', 'api_pivot_FindWindowW_y', 'api_pivot_closesocket_x', 'api_pivot_RtlAddVectoredExceptionHandler_y', 'api_pivot_GetFileSizeEx_x', 'api_pivot_InternetCrackUrlA_y', 'api_pivot_CryptExportKey_x', 'api_pivot_socket_y', 'api_pivot_InternetSetOptionA_y', 'api_pivot_RtlRemoveVectoredExceptionHandler_y', 'api_pivot_RtlAddVectoredContinueHandler_y', 'api_pivot_FindWindowExA_y', 'api_pivot_NtQuerySystemInformation_x', 'api_pivot_OpenServiceA_y', 'api_pivot_WriteProcessMemory_x', 'api_pivot_GetTimeZoneInformation_x', 'api_pivot_GetAddrInfoW_y', 'api_pivot_Module32FirstW_y', 'api_pivot_CertOpenStore_x', 'api_pivot_SetWindowsHookExA_y', 'api_pivot_HttpSendRequestW_y', 'api_pivot_Thread32Next_y', 'api_pivot_IsDebuggerPresent_y', 'api_pivot_ioctlsocket_y', 'api_pivot_WriteProcessMemory_y', 'api_pivot_NtDeviceIoControlFile_x', 'api_pivot_HttpOpenRequestA_x', 'api_pivot_gethostbyname_y', 'api_pivot_NtDeleteKey_x', 'api_pivot_CryptCreateHash_y', 'api_pivot_CoGetClassObject_y', 'api_pivot_GetFileInformationByHandleEx_x', 'api_pivot_RtlRemoveVectoredExceptionHandler_x', 'api_pivot_GetFileVersionInfoSizeW_y', 'api_pivot_timeGetTime_x', 'api_pivot_GetBestInterfaceEx_y', 'api_pivot_InternetReadFile_y', 'api_pivot_NtCreateKey_y', 'api_pivot_GetFileVersionInfoSizeExW_x', 'api_pivot_getaddrinfo_y', 'api_pivot_RegDeleteValueA_y', 'api_pivot_FindWindowA_x', 'api_pivot_RegEnumKeyExA_x', 'api_pivot_GetAdaptersInfo_y', 'api_pivot_NtQueryFullAttributesFile_y', 'api_pivot_GetDiskFreeSpaceW_y', 'api_pivot_InternetOpenUrlA_x', 'api_pivot_getsockname_x', 'api_pivot_CryptHashData_y', 'api_pivot_FindWindowExA_x', 'api_pivot_bind_x', 'api_pivot_GlobalMemoryStatus_y', 'api_pivot_listen_y', 'api_pivot_CertControlStore_x', 'api_pivot_GetFileVersionInfoExW_x', 'api_pivot_SetFileAttributesW_y', 'api_pivot_NtOpenDirectoryObject_x', 'api_pivot_HttpSendRequestA_y', 'api_pivot_DeviceIoControl_y', 'api_pivot_RemoveDirectoryA_y', 'api_pivot_CryptAcquireContextA_y', 'api_pivot_EnumServicesStatusW_x', 'api_pivot_NetShareEnum_y', 'api_pivot_GetKeyboardState_y', 'api_pivot_DrawTextExW_x', 'api_pivot_GetTimeZoneInformation_y', 'api_pivot_InternetOpenW_y', 'api_pivot_NetShareEnum_x', 'api_pivot_RegisterHotKey_x', 'api_pivot_gethostbyname_x', 'api_pivot_Thread32Next_x', 'api_pivot_InternetCrackUrlW_x', 'api_pivot_GetUserNameExW_y', 'api_pivot_NtEnumerateValueKey_x', 'api_pivot_timeGetTime_y', 'api_pivot_getaddrinfo_x', 'api_pivot_NtSetInformationFile_y', 'api_pivot_NtQueryMultipleValueKey_x', 'api_pivot_HttpOpenRequestW_x', 'api_pivot_GetSystemWindowsDirectoryA_y', 'api_pivot_FindResourceExA_x', 'api_pivot_DrawTextExA_x', 'api_pivot_GetVolumePathNameW_x', 'api_pivot_OutputDebugStringA_x', 'api_pivot_InternetCloseHandle_y', 'api_pivot_GetFileVersionInfoW_x', 'api_pivot_HttpSendRequestA_x', 'api_pivot_HttpSendRequestW_x', 'api_pivot_OpenSCManagerW_y', 'api_pivot_listen_x', 'api_pivot_GetFileVersionInfoExW_y', 'api_pivot_GetAddrInfoW_x', 'api_pivot_SearchPathW_x', 'api_pivot_OpenServiceW_x', 'api_pivot_LookupPrivilegeValueW_x', 'api_pivot_RegEnumValueA_y', 'api_pivot_NtOpenMutant_x', 'api_pivot_InternetOpenA_y', 'api_pivot_OpenServiceW_y', 'api_pivot_LookupPrivilegeValueW_y', 'api_pivot_UnhookWindowsHookEx_x', 'api_pivot_getsockname_y', 'api_pivot_RemoveDirectoryW_x', 'api_pivot_select_x', 'api_pivot_LookupAccountSidW_x', 'api_pivot_RegEnumValueA_x', 'api_pivot_EncryptMessage_x', 'api_pivot_GetUserNameA_y', 'api_pivot_Thread32First_x', 'api_pivot_GetBestInterfaceEx_x', 'api_pivot_DrawTextExA_y', 'api_pivot_NtTerminateThread_y', 'api_pivot_SetFilePointer_y', 'api_pivot_Thread32First_y', 'api_pivot_NtSuspendThread_x', 'api_pivot_FindResourceExA_y', 'api_pivot_NtOpenMutant_y', 'api_pivot_RtlAddVectoredContinueHandler_x', 'api_pivot_CoInitializeSecurity_y', 'api_pivot_NtQuerySystemInformation_y', 'api_pivot_CreateServiceW_x', 'api_pivot_send_y', 'api_pivot_NtDeleteKey_y', 'api_pivot_SetFilePointer_x', 'api_pivot_CryptDecodeObjectEx_y', 'api_pivot_OpenSCManagerW_x', 'api_pivot_connect_y', 'api_pivot_ObtainUserAgentString_x', 'api_pivot_HttpQueryInfoA_y', 'api_pivot_CoInitializeSecurity_x', 'api_pivot_NetGetJoinInformation_x', 'api_pivot_GetAsyncKeyState_x', 'api_pivot_CertOpenStore_y', 'api_pivot_GetDiskFreeSpaceW_x', 'api_pivot_GetAdaptersInfo_x', 'api_pivot_ReadProcessMemory_y', 'api_pivot_RegDeleteValueA_x', 'api_pivot_NtDeleteValueKey_y', 'api_pivot_closesocket_y', 'api_pivot_WSASocketW_y', 'api_pivot_NtReadVirtualMemory_y', 'api_pivot_GetUserNameExW_x', 'api_pivot_IsDebuggerPresent_x', 'api_pivot_CryptDecodeObjectEx_x', 'api_pivot_UuidCreate_x', 'api_pivot_FindWindowW_x', 'api_pivot_Module32FirstW_x', 'api_pivot_Module32NextW_y', 'api_pivot_RegisterHotKey_y'] not in index\"",
     "output_type": "error",
     "traceback": [
      "\u001b[1;31m---------------------------------------------------------------------------\u001b[0m",
      "\u001b[1;31mKeyError\u001b[0m                                  Traceback (most recent call last)",
      "\u001b[1;32m<ipython-input-30-b4369b8abdbf>\u001b[0m in \u001b[0;36m<module>\u001b[1;34m\u001b[0m\n\u001b[0;32m      2\u001b[0m \u001b[0mfold\u001b[0m \u001b[1;33m=\u001b[0m \u001b[1;36m5\u001b[0m\u001b[1;33m\u001b[0m\u001b[1;33m\u001b[0m\u001b[0m\n\u001b[0;32m      3\u001b[0m \u001b[1;32mfor\u001b[0m \u001b[0mmodel\u001b[0m \u001b[1;32min\u001b[0m \u001b[0mmodels\u001b[0m\u001b[1;33m:\u001b[0m\u001b[1;33m\u001b[0m\u001b[1;33m\u001b[0m\u001b[0m\n\u001b[1;32m----> 4\u001b[1;33m     \u001b[0mpred_res\u001b[0m \u001b[1;33m+=\u001b[0m\u001b[0mmodel\u001b[0m\u001b[1;33m.\u001b[0m\u001b[0mpredict\u001b[0m\u001b[1;33m(\u001b[0m\u001b[0mtest_submit\u001b[0m\u001b[1;33m[\u001b[0m\u001b[0mtrain_features\u001b[0m\u001b[1;33m]\u001b[0m\u001b[1;33m)\u001b[0m \u001b[1;33m*\u001b[0m \u001b[1;36m1.0\u001b[0m \u001b[1;33m/\u001b[0m \u001b[0mfold\u001b[0m\u001b[1;33m\u001b[0m\u001b[1;33m\u001b[0m\u001b[0m\n\u001b[0m",
      "\u001b[1;32md:\\ProgramData\\Anaconda3\\lib\\site-packages\\pandas\\core\\frame.py\u001b[0m in \u001b[0;36m__getitem__\u001b[1;34m(self, key)\u001b[0m\n\u001b[0;32m   2984\u001b[0m             \u001b[1;32mif\u001b[0m \u001b[0mis_iterator\u001b[0m\u001b[1;33m(\u001b[0m\u001b[0mkey\u001b[0m\u001b[1;33m)\u001b[0m\u001b[1;33m:\u001b[0m\u001b[1;33m\u001b[0m\u001b[1;33m\u001b[0m\u001b[0m\n\u001b[0;32m   2985\u001b[0m                 \u001b[0mkey\u001b[0m \u001b[1;33m=\u001b[0m \u001b[0mlist\u001b[0m\u001b[1;33m(\u001b[0m\u001b[0mkey\u001b[0m\u001b[1;33m)\u001b[0m\u001b[1;33m\u001b[0m\u001b[1;33m\u001b[0m\u001b[0m\n\u001b[1;32m-> 2986\u001b[1;33m             \u001b[0mindexer\u001b[0m \u001b[1;33m=\u001b[0m \u001b[0mself\u001b[0m\u001b[1;33m.\u001b[0m\u001b[0mloc\u001b[0m\u001b[1;33m.\u001b[0m\u001b[0m_convert_to_indexer\u001b[0m\u001b[1;33m(\u001b[0m\u001b[0mkey\u001b[0m\u001b[1;33m,\u001b[0m \u001b[0maxis\u001b[0m\u001b[1;33m=\u001b[0m\u001b[1;36m1\u001b[0m\u001b[1;33m,\u001b[0m \u001b[0mraise_missing\u001b[0m\u001b[1;33m=\u001b[0m\u001b[1;32mTrue\u001b[0m\u001b[1;33m)\u001b[0m\u001b[1;33m\u001b[0m\u001b[1;33m\u001b[0m\u001b[0m\n\u001b[0m\u001b[0;32m   2987\u001b[0m \u001b[1;33m\u001b[0m\u001b[0m\n\u001b[0;32m   2988\u001b[0m         \u001b[1;31m# take() does not accept boolean indexers\u001b[0m\u001b[1;33m\u001b[0m\u001b[1;33m\u001b[0m\u001b[1;33m\u001b[0m\u001b[0m\n",
      "\u001b[1;32md:\\ProgramData\\Anaconda3\\lib\\site-packages\\pandas\\core\\indexing.py\u001b[0m in \u001b[0;36m_convert_to_indexer\u001b[1;34m(self, obj, axis, is_setter, raise_missing)\u001b[0m\n\u001b[0;32m   1283\u001b[0m                 \u001b[1;31m# When setting, missing keys are not allowed, even with .loc:\u001b[0m\u001b[1;33m\u001b[0m\u001b[1;33m\u001b[0m\u001b[1;33m\u001b[0m\u001b[0m\n\u001b[0;32m   1284\u001b[0m                 \u001b[0mkwargs\u001b[0m \u001b[1;33m=\u001b[0m \u001b[1;33m{\u001b[0m\u001b[1;34m\"raise_missing\"\u001b[0m\u001b[1;33m:\u001b[0m \u001b[1;32mTrue\u001b[0m \u001b[1;32mif\u001b[0m \u001b[0mis_setter\u001b[0m \u001b[1;32melse\u001b[0m \u001b[0mraise_missing\u001b[0m\u001b[1;33m}\u001b[0m\u001b[1;33m\u001b[0m\u001b[1;33m\u001b[0m\u001b[0m\n\u001b[1;32m-> 1285\u001b[1;33m                 \u001b[1;32mreturn\u001b[0m \u001b[0mself\u001b[0m\u001b[1;33m.\u001b[0m\u001b[0m_get_listlike_indexer\u001b[0m\u001b[1;33m(\u001b[0m\u001b[0mobj\u001b[0m\u001b[1;33m,\u001b[0m \u001b[0maxis\u001b[0m\u001b[1;33m,\u001b[0m \u001b[1;33m**\u001b[0m\u001b[0mkwargs\u001b[0m\u001b[1;33m)\u001b[0m\u001b[1;33m[\u001b[0m\u001b[1;36m1\u001b[0m\u001b[1;33m]\u001b[0m\u001b[1;33m\u001b[0m\u001b[1;33m\u001b[0m\u001b[0m\n\u001b[0m\u001b[0;32m   1286\u001b[0m         \u001b[1;32melse\u001b[0m\u001b[1;33m:\u001b[0m\u001b[1;33m\u001b[0m\u001b[1;33m\u001b[0m\u001b[0m\n\u001b[0;32m   1287\u001b[0m             \u001b[1;32mtry\u001b[0m\u001b[1;33m:\u001b[0m\u001b[1;33m\u001b[0m\u001b[1;33m\u001b[0m\u001b[0m\n",
      "\u001b[1;32md:\\ProgramData\\Anaconda3\\lib\\site-packages\\pandas\\core\\indexing.py\u001b[0m in \u001b[0;36m_get_listlike_indexer\u001b[1;34m(self, key, axis, raise_missing)\u001b[0m\n\u001b[0;32m   1090\u001b[0m \u001b[1;33m\u001b[0m\u001b[0m\n\u001b[0;32m   1091\u001b[0m         self._validate_read_indexer(\n\u001b[1;32m-> 1092\u001b[1;33m             \u001b[0mkeyarr\u001b[0m\u001b[1;33m,\u001b[0m \u001b[0mindexer\u001b[0m\u001b[1;33m,\u001b[0m \u001b[0mo\u001b[0m\u001b[1;33m.\u001b[0m\u001b[0m_get_axis_number\u001b[0m\u001b[1;33m(\u001b[0m\u001b[0maxis\u001b[0m\u001b[1;33m)\u001b[0m\u001b[1;33m,\u001b[0m \u001b[0mraise_missing\u001b[0m\u001b[1;33m=\u001b[0m\u001b[0mraise_missing\u001b[0m\u001b[1;33m\u001b[0m\u001b[1;33m\u001b[0m\u001b[0m\n\u001b[0m\u001b[0;32m   1093\u001b[0m         )\n\u001b[0;32m   1094\u001b[0m         \u001b[1;32mreturn\u001b[0m \u001b[0mkeyarr\u001b[0m\u001b[1;33m,\u001b[0m \u001b[0mindexer\u001b[0m\u001b[1;33m\u001b[0m\u001b[1;33m\u001b[0m\u001b[0m\n",
      "\u001b[1;32md:\\ProgramData\\Anaconda3\\lib\\site-packages\\pandas\\core\\indexing.py\u001b[0m in \u001b[0;36m_validate_read_indexer\u001b[1;34m(self, key, indexer, axis, raise_missing)\u001b[0m\n\u001b[0;32m   1183\u001b[0m             \u001b[1;32mif\u001b[0m \u001b[1;32mnot\u001b[0m \u001b[1;33m(\u001b[0m\u001b[0mself\u001b[0m\u001b[1;33m.\u001b[0m\u001b[0mname\u001b[0m \u001b[1;33m==\u001b[0m \u001b[1;34m\"loc\"\u001b[0m \u001b[1;32mand\u001b[0m \u001b[1;32mnot\u001b[0m \u001b[0mraise_missing\u001b[0m\u001b[1;33m)\u001b[0m\u001b[1;33m:\u001b[0m\u001b[1;33m\u001b[0m\u001b[1;33m\u001b[0m\u001b[0m\n\u001b[0;32m   1184\u001b[0m                 \u001b[0mnot_found\u001b[0m \u001b[1;33m=\u001b[0m \u001b[0mlist\u001b[0m\u001b[1;33m(\u001b[0m\u001b[0mset\u001b[0m\u001b[1;33m(\u001b[0m\u001b[0mkey\u001b[0m\u001b[1;33m)\u001b[0m \u001b[1;33m-\u001b[0m \u001b[0mset\u001b[0m\u001b[1;33m(\u001b[0m\u001b[0max\u001b[0m\u001b[1;33m)\u001b[0m\u001b[1;33m)\u001b[0m\u001b[1;33m\u001b[0m\u001b[1;33m\u001b[0m\u001b[0m\n\u001b[1;32m-> 1185\u001b[1;33m                 \u001b[1;32mraise\u001b[0m \u001b[0mKeyError\u001b[0m\u001b[1;33m(\u001b[0m\u001b[1;34m\"{} not in index\"\u001b[0m\u001b[1;33m.\u001b[0m\u001b[0mformat\u001b[0m\u001b[1;33m(\u001b[0m\u001b[0mnot_found\u001b[0m\u001b[1;33m)\u001b[0m\u001b[1;33m)\u001b[0m\u001b[1;33m\u001b[0m\u001b[1;33m\u001b[0m\u001b[0m\n\u001b[0m\u001b[0;32m   1186\u001b[0m \u001b[1;33m\u001b[0m\u001b[0m\n\u001b[0;32m   1187\u001b[0m             \u001b[1;31m# we skip the warning on Categorical/Interval\u001b[0m\u001b[1;33m\u001b[0m\u001b[1;33m\u001b[0m\u001b[1;33m\u001b[0m\u001b[0m\n",
      "\u001b[1;31mKeyError\u001b[0m: \"['api_pivot_NtQueryMultipleValueKey_y', 'api_pivot_bind_y', 'api_pivot_FindWindowExW_y', 'api_pivot_RegQueryInfoKeyA_y', 'api_pivot_GetAdaptersAddresses_x', 'api_pivot_NtQueryFullAttributesFile_x', 'api_pivot_NtDeleteValueKey_x', 'api_pivot_RemoveDirectoryA_x', 'api_pivot_NtSetInformationFile_x', 'api_pivot_ReadProcessMemory_x', 'api_pivot_DrawTextExW_y', 'api_pivot_GlobalMemoryStatusEx_x', 'api_pivot_CryptAcquireContextW_y', 'api_pivot_HttpOpenRequestW_y', 'api_pivot_NtWriteFile_x', 'api_pivot_IWbemServices_ExecQuery_y', 'api_pivot_OpenServiceA_x', 'api_pivot_GetFileVersionInfoSizeW_x', 'api_pivot_HttpOpenRequestA_y', 'api_pivot_SetFilePointerEx_y', 'api_pivot_GetDiskFreeSpaceExW_y', 'api_pivot_Module32NextW_x', 'api_pivot_send_x', 'api_pivot_GetAsyncKeyState_y', 'api_pivot_NtEnumerateKey_y', 'api_pivot_SetEndOfFile_x', 'api_pivot_NtEnumerateValueKey_y', 'api_pivot_GetFileInformationByHandle_x', 'api_pivot_CoGetClassObject_x', 'api_pivot_GetSystemWindowsDirectoryA_x', 'api_pivot_connect_x', 'api_pivot_GlobalMemoryStatus_x', 'api_pivot_NtCreateKey_x', 'api_pivot_InternetConnectA_x', 'api_pivot_SetFileInformationByHandle_x', 'api_pivot_NtOpenDirectoryObject_y', 'api_pivot_GetFileVersionInfoSizeExW_y', 'api_pivot_WriteConsoleA_x', 'api_pivot_GetFileSizeEx_y', 'api_pivot_StartServiceW_y', 'api_pivot_GetUserNameA_x', 'api_pivot_CreateServiceW_y', 'api_pivot_setsockopt_y', 'api_pivot_WSASocketW_x', 'api_pivot_InternetSetStatusCallback_y', 'api_pivot_InternetCrackUrlW_y', 'api_pivot_InternetQueryOptionA_x', 'api_pivot_setsockopt_x', 'api_pivot_InternetConnectW_y', 'api_pivot_CryptAcquireContextA_x', 'api_pivot_InternetOpenA_x', 'api_pivot_SearchPathW_y', 'api_pivot_CryptCreateHash_x', 'api_pivot_FindWindowExW_x', 'api_pivot_WriteConsoleA_y', 'api_pivot_InternetReadFile_x', 'api_pivot_SetFileAttributesW_x', 'api_pivot_InternetSetStatusCallback_x', 'api_pivot_NtTerminateThread_x', 'api_pivot_InternetGetConnectedState_x', 'api_pivot_HttpQueryInfoA_x', 'api_pivot_InternetSetOptionA_x', 'api_pivot_socket_x', 'api_pivot_CryptHashData_x', 'api_pivot_GetFileInformationByHandle_y', 'api_pivot_StartServiceW_x', 'api_pivot_InternetQueryOptionA_y', 'api_pivot_SetFileTime_y', 'api_pivot_NetGetJoinInformation_y', 'api_pivot_NtDeviceIoControlFile_y', 'api_pivot_FindWindowA_y', 'api_pivot_InternetCloseHandle_x', 'api_pivot_OutputDebugStringA_y', 'api_pivot_NtWriteFile_y', 'api_pivot_EnumServicesStatusW_y', 'api_pivot_GetSystemDirectoryA_y', 'api_pivot_CoCreateInstanceEx_x', 'api_pivot_GetSystemDirectoryA_x', 'api_pivot_IWbemServices_ExecQuery_x', 'api_pivot_UnhookWindowsHookEx_y', 'api_pivot_GetFileInformationByHandleEx_y', 'api_pivot_GetDiskFreeSpaceExW_x', 'api_pivot_InternetCrackUrlA_x', 'api_pivot_InternetOpenW_x', 'api_pivot_SetFileInformationByHandle_y', 'api_pivot_SetFilePointerEx_x', 'api_pivot_GetKeyboardState_x', 'api_pivot_InternetConnectA_y', 'api_pivot_EncryptMessage_y', 'api_pivot_SetEndOfFile_y', 'api_pivot_UuidCreate_y', 'api_pivot_CryptAcquireContextW_x', 'api_pivot_CoCreateInstanceEx_y', 'api_pivot_EnumWindows_y', 'api_pivot_GetFileVersionInfoW_y', 'api_pivot_SetFileTime_x', 'api_pivot_GetVolumePathNameW_y', 'api_pivot_GlobalMemoryStatusEx_y', 'api_pivot_SetWindowsHookExA_x', 'api_pivot_ObtainUserAgentString_y', 'api_pivot_CertControlStore_y', 'api_pivot_LookupAccountSidW_y', 'api_pivot_InternetGetConnectedState_y', 'api_pivot_select_y', 'api_pivot_CryptExportKey_y', 'api_pivot_EnumWindows_x', 'api_pivot_InternetConnectW_x', 'api_pivot_RegEnumKeyExA_y', 'api_pivot_RtlAddVectoredExceptionHandler_x', 'api_pivot_RegQueryInfoKeyA_x', 'api_pivot_NtEnumerateKey_x', 'api_pivot_NtSuspendThread_y', 'api_pivot_RemoveDirectoryW_y', 'api_pivot_ioctlsocket_x', 'api_pivot_InternetOpenUrlA_y', 'api_pivot_NtReadVirtualMemory_x', 'api_pivot_GetAdaptersAddresses_y', 'api_pivot_DeviceIoControl_x', 'api_pivot_FindWindowW_y', 'api_pivot_closesocket_x', 'api_pivot_RtlAddVectoredExceptionHandler_y', 'api_pivot_GetFileSizeEx_x', 'api_pivot_InternetCrackUrlA_y', 'api_pivot_CryptExportKey_x', 'api_pivot_socket_y', 'api_pivot_InternetSetOptionA_y', 'api_pivot_RtlRemoveVectoredExceptionHandler_y', 'api_pivot_RtlAddVectoredContinueHandler_y', 'api_pivot_FindWindowExA_y', 'api_pivot_NtQuerySystemInformation_x', 'api_pivot_OpenServiceA_y', 'api_pivot_WriteProcessMemory_x', 'api_pivot_GetTimeZoneInformation_x', 'api_pivot_GetAddrInfoW_y', 'api_pivot_Module32FirstW_y', 'api_pivot_CertOpenStore_x', 'api_pivot_SetWindowsHookExA_y', 'api_pivot_HttpSendRequestW_y', 'api_pivot_Thread32Next_y', 'api_pivot_IsDebuggerPresent_y', 'api_pivot_ioctlsocket_y', 'api_pivot_WriteProcessMemory_y', 'api_pivot_NtDeviceIoControlFile_x', 'api_pivot_HttpOpenRequestA_x', 'api_pivot_gethostbyname_y', 'api_pivot_NtDeleteKey_x', 'api_pivot_CryptCreateHash_y', 'api_pivot_CoGetClassObject_y', 'api_pivot_GetFileInformationByHandleEx_x', 'api_pivot_RtlRemoveVectoredExceptionHandler_x', 'api_pivot_GetFileVersionInfoSizeW_y', 'api_pivot_timeGetTime_x', 'api_pivot_GetBestInterfaceEx_y', 'api_pivot_InternetReadFile_y', 'api_pivot_NtCreateKey_y', 'api_pivot_GetFileVersionInfoSizeExW_x', 'api_pivot_getaddrinfo_y', 'api_pivot_RegDeleteValueA_y', 'api_pivot_FindWindowA_x', 'api_pivot_RegEnumKeyExA_x', 'api_pivot_GetAdaptersInfo_y', 'api_pivot_NtQueryFullAttributesFile_y', 'api_pivot_GetDiskFreeSpaceW_y', 'api_pivot_InternetOpenUrlA_x', 'api_pivot_getsockname_x', 'api_pivot_CryptHashData_y', 'api_pivot_FindWindowExA_x', 'api_pivot_bind_x', 'api_pivot_GlobalMemoryStatus_y', 'api_pivot_listen_y', 'api_pivot_CertControlStore_x', 'api_pivot_GetFileVersionInfoExW_x', 'api_pivot_SetFileAttributesW_y', 'api_pivot_NtOpenDirectoryObject_x', 'api_pivot_HttpSendRequestA_y', 'api_pivot_DeviceIoControl_y', 'api_pivot_RemoveDirectoryA_y', 'api_pivot_CryptAcquireContextA_y', 'api_pivot_EnumServicesStatusW_x', 'api_pivot_NetShareEnum_y', 'api_pivot_GetKeyboardState_y', 'api_pivot_DrawTextExW_x', 'api_pivot_GetTimeZoneInformation_y', 'api_pivot_InternetOpenW_y', 'api_pivot_NetShareEnum_x', 'api_pivot_RegisterHotKey_x', 'api_pivot_gethostbyname_x', 'api_pivot_Thread32Next_x', 'api_pivot_InternetCrackUrlW_x', 'api_pivot_GetUserNameExW_y', 'api_pivot_NtEnumerateValueKey_x', 'api_pivot_timeGetTime_y', 'api_pivot_getaddrinfo_x', 'api_pivot_NtSetInformationFile_y', 'api_pivot_NtQueryMultipleValueKey_x', 'api_pivot_HttpOpenRequestW_x', 'api_pivot_GetSystemWindowsDirectoryA_y', 'api_pivot_FindResourceExA_x', 'api_pivot_DrawTextExA_x', 'api_pivot_GetVolumePathNameW_x', 'api_pivot_OutputDebugStringA_x', 'api_pivot_InternetCloseHandle_y', 'api_pivot_GetFileVersionInfoW_x', 'api_pivot_HttpSendRequestA_x', 'api_pivot_HttpSendRequestW_x', 'api_pivot_OpenSCManagerW_y', 'api_pivot_listen_x', 'api_pivot_GetFileVersionInfoExW_y', 'api_pivot_GetAddrInfoW_x', 'api_pivot_SearchPathW_x', 'api_pivot_OpenServiceW_x', 'api_pivot_LookupPrivilegeValueW_x', 'api_pivot_RegEnumValueA_y', 'api_pivot_NtOpenMutant_x', 'api_pivot_InternetOpenA_y', 'api_pivot_OpenServiceW_y', 'api_pivot_LookupPrivilegeValueW_y', 'api_pivot_UnhookWindowsHookEx_x', 'api_pivot_getsockname_y', 'api_pivot_RemoveDirectoryW_x', 'api_pivot_select_x', 'api_pivot_LookupAccountSidW_x', 'api_pivot_RegEnumValueA_x', 'api_pivot_EncryptMessage_x', 'api_pivot_GetUserNameA_y', 'api_pivot_Thread32First_x', 'api_pivot_GetBestInterfaceEx_x', 'api_pivot_DrawTextExA_y', 'api_pivot_NtTerminateThread_y', 'api_pivot_SetFilePointer_y', 'api_pivot_Thread32First_y', 'api_pivot_NtSuspendThread_x', 'api_pivot_FindResourceExA_y', 'api_pivot_NtOpenMutant_y', 'api_pivot_RtlAddVectoredContinueHandler_x', 'api_pivot_CoInitializeSecurity_y', 'api_pivot_NtQuerySystemInformation_y', 'api_pivot_CreateServiceW_x', 'api_pivot_send_y', 'api_pivot_NtDeleteKey_y', 'api_pivot_SetFilePointer_x', 'api_pivot_CryptDecodeObjectEx_y', 'api_pivot_OpenSCManagerW_x', 'api_pivot_connect_y', 'api_pivot_ObtainUserAgentString_x', 'api_pivot_HttpQueryInfoA_y', 'api_pivot_CoInitializeSecurity_x', 'api_pivot_NetGetJoinInformation_x', 'api_pivot_GetAsyncKeyState_x', 'api_pivot_CertOpenStore_y', 'api_pivot_GetDiskFreeSpaceW_x', 'api_pivot_GetAdaptersInfo_x', 'api_pivot_ReadProcessMemory_y', 'api_pivot_RegDeleteValueA_x', 'api_pivot_NtDeleteValueKey_y', 'api_pivot_closesocket_y', 'api_pivot_WSASocketW_y', 'api_pivot_NtReadVirtualMemory_y', 'api_pivot_GetUserNameExW_x', 'api_pivot_IsDebuggerPresent_x', 'api_pivot_CryptDecodeObjectEx_x', 'api_pivot_UuidCreate_x', 'api_pivot_FindWindowW_x', 'api_pivot_Module32FirstW_x', 'api_pivot_Module32NextW_y', 'api_pivot_RegisterHotKey_y'] not in index\""
     ]
    }
   ],
   "source": [
    "pred_res = 0\n",
    "fold = 5\n",
    "for model in models:\n",
    "    pred_res +=model.predict(test_submit[train_features]) * 1.0 / fold "
   ]
  },
  {
   "cell_type": "code",
   "execution_count": null,
   "metadata": {},
   "outputs": [],
   "source": [
    "test_submit['prob0'] = 0\n",
    "test_submit['prob1'] = 0\n",
    "test_submit['prob2'] = 0\n",
    "test_submit['prob3'] = 0\n",
    "test_submit['prob4'] = 0\n",
    "test_submit['prob5'] = 0\n",
    "test_submit['prob6'] = 0\n",
    "test_submit['prob7'] = 0"
   ]
  },
  {
   "cell_type": "code",
   "execution_count": null,
   "metadata": {
    "scrolled": true
   },
   "outputs": [],
   "source": [
    "test_submit[['prob0','prob1','prob2','prob3','prob4','prob5','prob6','prob7']] = pred_res\n",
    "test_submit[['file_id','prob0','prob1','prob2','prob3','prob4','prob5','prob6','prob7']].to_csv('baseline2.csv',index = None)"
   ]
  },
  {
   "cell_type": "markdown",
   "metadata": {},
   "source": [
    "### 树模型绘制"
   ]
  },
  {
   "cell_type": "code",
   "execution_count": null,
   "metadata": {},
   "outputs": [],
   "source": [
    "ax = lgb.plot_tree(clf, tree_index=1, figsize=(20, 8), show_info=['split_gain'])\n",
    "plt.show()"
   ]
  },
  {
   "cell_type": "code",
   "execution_count": null,
   "metadata": {},
   "outputs": [],
   "source": []
  }
 ],
 "metadata": {
  "kernelspec": {
   "display_name": "Python 3",
   "language": "python",
   "name": "python3"
  },
  "language_info": {
   "codemirror_mode": {
    "name": "ipython",
    "version": 3
   },
   "file_extension": ".py",
   "mimetype": "text/x-python",
   "name": "python",
   "nbconvert_exporter": "python",
   "pygments_lexer": "ipython3",
   "version": "3.7.4"
  },
  "toc": {
   "nav_menu": {},
   "number_sections": true,
   "sideBar": true,
   "skip_h1_title": false,
   "title_cell": "Table of Contents",
   "title_sidebar": "Contents",
   "toc_cell": true,
   "toc_position": {},
   "toc_section_display": true,
   "toc_window_display": true
  }
 },
 "nbformat": 4,
 "nbformat_minor": 2
}
